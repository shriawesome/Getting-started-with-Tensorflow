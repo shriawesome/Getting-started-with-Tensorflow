{
 "cells": [
  {
   "cell_type": "code",
   "execution_count": 1,
   "metadata": {},
   "outputs": [
    {
     "data": {
      "text/plain": [
       "'2.1.0'"
      ]
     },
     "execution_count": 1,
     "metadata": {},
     "output_type": "execute_result"
    }
   ],
   "source": [
    "import tensorflow as tf\n",
    "tf.__version__"
   ]
  },
  {
   "cell_type": "code",
   "execution_count": 35,
   "metadata": {},
   "outputs": [],
   "source": [
    "# Resets the default global graphs.\n",
    "tf.compat.v1.get_default_graph()\n",
    "tf.compat.v1.reset_default_graph()\n",
    "tf.compat.v1.disable_eager_execution()   # by defaulut it is enabled"
   ]
  },
  {
   "cell_type": "code",
   "execution_count": 36,
   "metadata": {},
   "outputs": [],
   "source": [
    "# Creating constant tensors\n",
    "a=tf.constant(value=5,name='constant_a')    # we have a tensor 'a' with value 5 and name as 'constant_a'\n",
    "b=tf.constant(100,name='constant_b')\n",
    "c=tf.constant(16,name='constant_c')\n",
    "d=tf.constant(8,name='constant_d')"
   ]
  },
  {
   "cell_type": "markdown",
   "metadata": {},
   "source": [
    "Link for referring to different operators in tf -<br>\n",
    "https://www.tensorflow.org/api_docs/python/tf"
   ]
  },
  {
   "cell_type": "code",
   "execution_count": 66,
   "metadata": {},
   "outputs": [],
   "source": [
    "# Computation(Operator) using Constant (Nodes to the graph)\n",
    "mul=tf.multiply(a,b,name='mul')           # Operator 'multiply' with name 'mul'\n",
    "mul2=tf.multiply(c,d,name='mul2')\n",
    "#div=tf.cast(div,'int32')\n",
    "addn=tf.add_n([mul, mul2],name='addn')"
   ]
  },
  {
   "cell_type": "code",
   "execution_count": 67,
   "metadata": {},
   "outputs": [
    {
     "name": "stdout",
     "output_type": "stream",
     "text": [
      "Tensor(\"addn_6:0\", shape=(), dtype=int32)\n"
     ]
    }
   ],
   "source": [
    "# info about tensor\n",
    "# Since, we have disbaled eager_execution\n",
    "# the computaton won't be performed  as we are just building the graph and it's not executed it.\n",
    "print(addn)    "
   ]
  },
  {
   "cell_type": "markdown",
   "metadata": {},
   "source": [
    "### Session :-\n",
    "Encapsulates the environment where ```Operation``` objects are executed and ```Tensor``` objects are evaluated"
   ]
  },
  {
   "cell_type": "code",
   "execution_count": 68,
   "metadata": {},
   "outputs": [
    {
     "name": "stdout",
     "output_type": "stream",
     "text": [
      "628\n",
      "500\n"
     ]
    }
   ],
   "source": [
    "sess=tf.compat.v1.Session()\n",
    "print(sess.run(addn))   # computes the result and envokes the computation graph\n",
    "print(sess.run(mul))"
   ]
  },
  {
   "cell_type": "markdown",
   "metadata": {},
   "source": [
    "1. All the api that are used above are low level api's which we use to build our graph in Production.\n",
    "2. `tensorboard` helps to visualise our graph and can be used for debugging.\n",
    "3. To do that we need to instrument our code by writing summary and events in our code"
   ]
  },
  {
   "cell_type": "code",
   "execution_count": 69,
   "metadata": {},
   "outputs": [],
   "source": [
    "# Creates an event file and constantly updates that file with events and summaries\n",
    "writer=tf.compat.v1.summary.FileWriter('./constants',sess.graph)   # sess.graph holds the current state of our computation graph\n",
    "\n",
    "writer.close()  # frees up an resources that it is holding."
   ]
  },
  {
   "cell_type": "markdown",
   "metadata": {},
   "source": [
    "RUN THE TERMINAL COMMAND TO RUN TENSORBOARD :-<br>\n",
    "`tensorboard --logdir='./constants'/`"
   ]
  },
  {
   "cell_type": "markdown",
   "metadata": {},
   "source": [
    "## Variables"
   ]
  },
  {
   "cell_type": "code",
   "execution_count": 73,
   "metadata": {},
   "outputs": [],
   "source": [
    "tf.compat.v1.reset_default_graph()"
   ]
  },
  {
   "cell_type": "code",
   "execution_count": 74,
   "metadata": {},
   "outputs": [
    {
     "data": {
      "text/plain": [
       "<tf.Variable 'variable_m:0' shape=(2,) dtype=float32>"
      ]
     },
     "execution_count": 74,
     "metadata": {},
     "output_type": "execute_result"
    }
   ],
   "source": [
    "# declaring varibales in tf\n",
    "m=tf.compat.v1.Variable([2.5,4.0],tf.float32,name='variable_m')\n",
    "c=tf.compat.v1.Variable([5.0,10.0],tf.float32,name='variable_c')\n",
    "m"
   ]
  },
  {
   "cell_type": "code",
   "execution_count": 75,
   "metadata": {},
   "outputs": [
    {
     "data": {
      "text/plain": [
       "<tf.Tensor 'placeholder_x:0' shape=(2,) dtype=float32>"
      ]
     },
     "execution_count": 75,
     "metadata": {},
     "output_type": "execute_result"
    }
   ],
   "source": [
    "# from above varibale name we are trying to fit in the line with y=mx+c\n",
    "# Placeholder or empty container for tensor values which will be fed in during the execution\n",
    "x=tf.compat.v1.placeholder(tf.float32,shape=[2],name='placeholder_x')\n",
    "x"
   ]
  },
  {
   "cell_type": "code",
   "execution_count": 76,
   "metadata": {},
   "outputs": [
    {
     "data": {
      "text/plain": [
       "<tf.Tensor 'add:0' shape=(2,) dtype=float32>"
      ]
     },
     "execution_count": 76,
     "metadata": {},
     "output_type": "execute_result"
    }
   ],
   "source": [
    "# equation of the line\n",
    "y=m*x+c\n",
    "y"
   ]
  },
  {
   "cell_type": "code",
   "execution_count": 77,
   "metadata": {},
   "outputs": [],
   "source": [
    "# Before using any variables we need to explicitly initialise it\n",
    "# Operator needs to be called to initialise all the variables in th graph\n",
    "init=tf.compat.v1.global_variables_initializer()"
   ]
  },
  {
   "cell_type": "code",
   "execution_count": 78,
   "metadata": {},
   "outputs": [
    {
     "name": "stdout",
     "output_type": "stream",
     "text": [
      "Final result:mx + c [ 55. 210.]\n",
      "WARNING:tensorflow:Issue encountered when serializing variables.\n",
      "Type is unsupported, or the types of the items don't match field type in CollectionDef. Note this is a warning and probably safe to ignore.\n",
      "tf.float32 has type DType, but expected one of: int, long, bool\n",
      "WARNING:tensorflow:Issue encountered when serializing trainable_variables.\n",
      "Type is unsupported, or the types of the items don't match field type in CollectionDef. Note this is a warning and probably safe to ignore.\n",
      "tf.float32 has type DType, but expected one of: int, long, bool\n"
     ]
    }
   ],
   "source": [
    "with tf.compat.v1.Session() as sess:\n",
    "    sess.run(init)\n",
    "    y_output=sess.run(y,feed_dict={x:[20.0,50.0]})\n",
    "    print(\"Final result:mx + c\",y_output)\n",
    "    writer=tf.compat.v1.summary.FileWriter('./variables_and_placeholders',sess.graph)\n",
    "    writer.close()"
   ]
  },
  {
   "cell_type": "code",
   "execution_count": 79,
   "metadata": {},
   "outputs": [
    {
     "data": {
      "text/plain": [
       "array([ 55., 210.], dtype=float32)"
      ]
     },
     "execution_count": 79,
     "metadata": {},
     "output_type": "execute_result"
    }
   ],
   "source": [
    "y_output"
   ]
  },
  {
   "cell_type": "code",
   "execution_count": null,
   "metadata": {},
   "outputs": [],
   "source": []
  }
 ],
 "metadata": {
  "kernelspec": {
   "display_name": "Python 3",
   "language": "python",
   "name": "python3"
  },
  "language_info": {
   "codemirror_mode": {
    "name": "ipython",
    "version": 3
   },
   "file_extension": ".py",
   "mimetype": "text/x-python",
   "name": "python",
   "nbconvert_exporter": "python",
   "pygments_lexer": "ipython3",
   "version": "3.6.10"
  }
 },
 "nbformat": 4,
 "nbformat_minor": 4
}
