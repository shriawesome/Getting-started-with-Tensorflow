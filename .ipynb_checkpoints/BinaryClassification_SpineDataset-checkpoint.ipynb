{
 "cells": [
  {
   "cell_type": "code",
   "execution_count": 46,
   "metadata": {},
   "outputs": [],
   "source": [
    "import os\n",
    "import datetime as dt\n",
    "\n",
    "import pandas as pd\n",
    "import numpy as np\n",
    "\n",
    "import matplotlib.pyplot as plt\n",
    "import seaborn as sns\n",
    "%matplotlib inline\n",
    "\n",
    "from sklearn.preprocessing import StandardScaler\n",
    "from sklearn.metrics import accuracy_score,precision_score,recall_score\n",
    "from sklearn.model_selection import train_test_split\n",
    "\n",
    "import tensorflow as tf\n",
    "from tensorflow import keras\n",
    "from tensorflow.keras import layers\n",
    "\n",
    "# Destroys the current tf graph and session and creates a new one\n",
    "# used when we are using same Python Kernel for creating multiple NN\n",
    "tf.keras.backend.clear_session()"
   ]
  },
  {
   "cell_type": "markdown",
   "metadata": {},
   "source": [
    "## Loading the dataset\n",
    "[Info about dataset](https://www.kaggle.com/sammy123/lower-back-pain-symptoms-dataset)"
   ]
  },
  {
   "cell_type": "code",
   "execution_count": 2,
   "metadata": {},
   "outputs": [],
   "source": [
    "spine_data=pd.read_csv('datasets/Dataset_spine.csv',skiprows=1)\n",
    "\n",
    "spine_data=spine_data.drop('Unnamed: 13',axis=1)\n",
    "\n",
    "spine_data.columns=['pelvic_incidence',\n",
    "                             'pelvic_tilt',\n",
    "                             'lumbar_lordosis_angle',\n",
    "                             'sacral_slope',\n",
    "                             'pelvic_radius',\n",
    "                             'degree_spondylolisthesis',\n",
    "                             'pelvic_slope',\n",
    "                             'direct_tilt',\n",
    "                             'thoracic_slope',\n",
    "                             'cervical_tilt',\n",
    "                             'sacrum_angle',\n",
    "                             'scoliosis_slope',\n",
    "                             'class_att']\n",
    "\n",
    "spine_data=spine_data.sample(frac=1).reset_index(drop=True)"
   ]
  },
  {
   "cell_type": "code",
   "execution_count": 5,
   "metadata": {},
   "outputs": [
    {
     "data": {
      "text/html": [
       "<div>\n",
       "<style scoped>\n",
       "    .dataframe tbody tr th:only-of-type {\n",
       "        vertical-align: middle;\n",
       "    }\n",
       "\n",
       "    .dataframe tbody tr th {\n",
       "        vertical-align: top;\n",
       "    }\n",
       "\n",
       "    .dataframe thead th {\n",
       "        text-align: right;\n",
       "    }\n",
       "</style>\n",
       "<table border=\"1\" class=\"dataframe\">\n",
       "  <thead>\n",
       "    <tr style=\"text-align: right;\">\n",
       "      <th></th>\n",
       "      <th>0</th>\n",
       "      <th>1</th>\n",
       "      <th>2</th>\n",
       "      <th>3</th>\n",
       "      <th>4</th>\n",
       "    </tr>\n",
       "  </thead>\n",
       "  <tbody>\n",
       "    <tr>\n",
       "      <th>pelvic_incidence</th>\n",
       "      <td>66.2854</td>\n",
       "      <td>39.057</td>\n",
       "      <td>57.0351</td>\n",
       "      <td>49.7066</td>\n",
       "      <td>44.5291</td>\n",
       "    </tr>\n",
       "    <tr>\n",
       "      <th>pelvic_tilt</th>\n",
       "      <td>26.3278</td>\n",
       "      <td>10.061</td>\n",
       "      <td>0.345728</td>\n",
       "      <td>13.041</td>\n",
       "      <td>9.43323</td>\n",
       "    </tr>\n",
       "    <tr>\n",
       "      <th>lumbar_lordosis_angle</th>\n",
       "      <td>47.5</td>\n",
       "      <td>25.0154</td>\n",
       "      <td>49.198</td>\n",
       "      <td>31.3345</td>\n",
       "      <td>52</td>\n",
       "    </tr>\n",
       "    <tr>\n",
       "      <th>sacral_slope</th>\n",
       "      <td>39.9575</td>\n",
       "      <td>28.996</td>\n",
       "      <td>56.6894</td>\n",
       "      <td>36.6656</td>\n",
       "      <td>35.0958</td>\n",
       "    </tr>\n",
       "    <tr>\n",
       "      <th>pelvic_radius</th>\n",
       "      <td>121.22</td>\n",
       "      <td>114.405</td>\n",
       "      <td>103.049</td>\n",
       "      <td>108.648</td>\n",
       "      <td>134.712</td>\n",
       "    </tr>\n",
       "    <tr>\n",
       "      <th>degree_spondylolisthesis</th>\n",
       "      <td>-0.799624</td>\n",
       "      <td>4.56426</td>\n",
       "      <td>52.1651</td>\n",
       "      <td>-7.82599</td>\n",
       "      <td>29.1066</td>\n",
       "    </tr>\n",
       "    <tr>\n",
       "      <th>pelvic_slope</th>\n",
       "      <td>0.647626</td>\n",
       "      <td>0.415186</td>\n",
       "      <td>0.561323</td>\n",
       "      <td>0.68801</td>\n",
       "      <td>0.116627</td>\n",
       "    </tr>\n",
       "    <tr>\n",
       "      <th>direct_tilt</th>\n",
       "      <td>9.0466</td>\n",
       "      <td>12.8874</td>\n",
       "      <td>35.4921</td>\n",
       "      <td>31.3502</td>\n",
       "      <td>22.0548</td>\n",
       "    </tr>\n",
       "    <tr>\n",
       "      <th>thoracic_slope</th>\n",
       "      <td>10.2636</td>\n",
       "      <td>17.5323</td>\n",
       "      <td>14.1033</td>\n",
       "      <td>16.5097</td>\n",
       "      <td>13.7595</td>\n",
       "    </tr>\n",
       "    <tr>\n",
       "      <th>cervical_tilt</th>\n",
       "      <td>13.5035</td>\n",
       "      <td>16.7849</td>\n",
       "      <td>7.99506</td>\n",
       "      <td>15.1765</td>\n",
       "      <td>16.7791</td>\n",
       "    </tr>\n",
       "    <tr>\n",
       "      <th>sacrum_angle</th>\n",
       "      <td>1.13808</td>\n",
       "      <td>-25.5306</td>\n",
       "      <td>-26.2231</td>\n",
       "      <td>-0.502127</td>\n",
       "      <td>-7.14647</td>\n",
       "    </tr>\n",
       "    <tr>\n",
       "      <th>scoliosis_slope</th>\n",
       "      <td>34.3683</td>\n",
       "      <td>16.1102</td>\n",
       "      <td>40.1564</td>\n",
       "      <td>18.3437</td>\n",
       "      <td>13.5143</td>\n",
       "    </tr>\n",
       "    <tr>\n",
       "      <th>class_att</th>\n",
       "      <td>Abnormal</td>\n",
       "      <td>Abnormal</td>\n",
       "      <td>Abnormal</td>\n",
       "      <td>Abnormal</td>\n",
       "      <td>Abnormal</td>\n",
       "    </tr>\n",
       "  </tbody>\n",
       "</table>\n",
       "</div>"
      ],
      "text/plain": [
       "                                 0         1         2         3         4\n",
       "pelvic_incidence           66.2854    39.057   57.0351   49.7066   44.5291\n",
       "pelvic_tilt                26.3278    10.061  0.345728    13.041   9.43323\n",
       "lumbar_lordosis_angle         47.5   25.0154    49.198   31.3345        52\n",
       "sacral_slope               39.9575    28.996   56.6894   36.6656   35.0958\n",
       "pelvic_radius               121.22   114.405   103.049   108.648   134.712\n",
       "degree_spondylolisthesis -0.799624   4.56426   52.1651  -7.82599   29.1066\n",
       "pelvic_slope              0.647626  0.415186  0.561323   0.68801  0.116627\n",
       "direct_tilt                 9.0466   12.8874   35.4921   31.3502   22.0548\n",
       "thoracic_slope             10.2636   17.5323   14.1033   16.5097   13.7595\n",
       "cervical_tilt              13.5035   16.7849   7.99506   15.1765   16.7791\n",
       "sacrum_angle               1.13808  -25.5306  -26.2231 -0.502127  -7.14647\n",
       "scoliosis_slope            34.3683   16.1102   40.1564   18.3437   13.5143\n",
       "class_att                 Abnormal  Abnormal  Abnormal  Abnormal  Abnormal"
      ]
     },
     "execution_count": 5,
     "metadata": {},
     "output_type": "execute_result"
    }
   ],
   "source": [
    "spine_data.head().T"
   ]
  },
  {
   "cell_type": "markdown",
   "metadata": {},
   "source": [
    "Different features that help us understand the condition of a person and know who can suffer from lower back injury."
   ]
  },
  {
   "cell_type": "code",
   "execution_count": 6,
   "metadata": {},
   "outputs": [
    {
     "data": {
      "text/plain": [
       "(309, 13)"
      ]
     },
     "execution_count": 6,
     "metadata": {},
     "output_type": "execute_result"
    }
   ],
   "source": [
    "spine_data.shape"
   ]
  },
  {
   "cell_type": "code",
   "execution_count": 7,
   "metadata": {},
   "outputs": [
    {
     "data": {
      "text/plain": [
       "array(['Abnormal', 'Normal'], dtype=object)"
      ]
     },
     "execution_count": 7,
     "metadata": {},
     "output_type": "execute_result"
    }
   ],
   "source": [
    "# Different Classes\n",
    "spine_data['class_att'].unique()"
   ]
  },
  {
   "cell_type": "code",
   "execution_count": 8,
   "metadata": {},
   "outputs": [
    {
     "data": {
      "text/html": [
       "<div>\n",
       "<style scoped>\n",
       "    .dataframe tbody tr th:only-of-type {\n",
       "        vertical-align: middle;\n",
       "    }\n",
       "\n",
       "    .dataframe tbody tr th {\n",
       "        vertical-align: top;\n",
       "    }\n",
       "\n",
       "    .dataframe thead th {\n",
       "        text-align: right;\n",
       "    }\n",
       "</style>\n",
       "<table border=\"1\" class=\"dataframe\">\n",
       "  <thead>\n",
       "    <tr style=\"text-align: right;\">\n",
       "      <th></th>\n",
       "      <th>count</th>\n",
       "      <th>mean</th>\n",
       "      <th>std</th>\n",
       "      <th>min</th>\n",
       "      <th>25%</th>\n",
       "      <th>50%</th>\n",
       "      <th>75%</th>\n",
       "      <th>max</th>\n",
       "    </tr>\n",
       "  </thead>\n",
       "  <tbody>\n",
       "    <tr>\n",
       "      <th>pelvic_incidence</th>\n",
       "      <td>309.0</td>\n",
       "      <td>60.488461</td>\n",
       "      <td>17.263875</td>\n",
       "      <td>26.147921</td>\n",
       "      <td>46.426366</td>\n",
       "      <td>58.599529</td>\n",
       "      <td>72.955644</td>\n",
       "      <td>129.834041</td>\n",
       "    </tr>\n",
       "    <tr>\n",
       "      <th>pelvic_tilt</th>\n",
       "      <td>309.0</td>\n",
       "      <td>17.526609</td>\n",
       "      <td>10.020486</td>\n",
       "      <td>-6.554948</td>\n",
       "      <td>10.659859</td>\n",
       "      <td>16.297915</td>\n",
       "      <td>21.936186</td>\n",
       "      <td>49.431864</td>\n",
       "    </tr>\n",
       "    <tr>\n",
       "      <th>lumbar_lordosis_angle</th>\n",
       "      <td>309.0</td>\n",
       "      <td>51.970806</td>\n",
       "      <td>18.570850</td>\n",
       "      <td>14.000000</td>\n",
       "      <td>37.000000</td>\n",
       "      <td>49.775534</td>\n",
       "      <td>63.000000</td>\n",
       "      <td>125.742385</td>\n",
       "    </tr>\n",
       "    <tr>\n",
       "      <th>sacral_slope</th>\n",
       "      <td>309.0</td>\n",
       "      <td>42.961852</td>\n",
       "      <td>13.444131</td>\n",
       "      <td>13.366931</td>\n",
       "      <td>33.340707</td>\n",
       "      <td>42.436230</td>\n",
       "      <td>52.744711</td>\n",
       "      <td>121.429566</td>\n",
       "    </tr>\n",
       "    <tr>\n",
       "      <th>pelvic_radius</th>\n",
       "      <td>309.0</td>\n",
       "      <td>117.982945</td>\n",
       "      <td>13.293668</td>\n",
       "      <td>70.082575</td>\n",
       "      <td>110.709912</td>\n",
       "      <td>118.343321</td>\n",
       "      <td>125.480174</td>\n",
       "      <td>163.071041</td>\n",
       "    </tr>\n",
       "    <tr>\n",
       "      <th>degree_spondylolisthesis</th>\n",
       "      <td>309.0</td>\n",
       "      <td>26.382620</td>\n",
       "      <td>37.589418</td>\n",
       "      <td>-11.058179</td>\n",
       "      <td>1.630664</td>\n",
       "      <td>12.072644</td>\n",
       "      <td>41.422828</td>\n",
       "      <td>418.543082</td>\n",
       "    </tr>\n",
       "    <tr>\n",
       "      <th>pelvic_slope</th>\n",
       "      <td>309.0</td>\n",
       "      <td>0.472101</td>\n",
       "      <td>0.285831</td>\n",
       "      <td>0.003220</td>\n",
       "      <td>0.223550</td>\n",
       "      <td>0.474889</td>\n",
       "      <td>0.702208</td>\n",
       "      <td>0.998827</td>\n",
       "    </tr>\n",
       "    <tr>\n",
       "      <th>direct_tilt</th>\n",
       "      <td>309.0</td>\n",
       "      <td>21.349861</td>\n",
       "      <td>8.638998</td>\n",
       "      <td>7.027000</td>\n",
       "      <td>13.181300</td>\n",
       "      <td>21.907400</td>\n",
       "      <td>28.970300</td>\n",
       "      <td>36.743900</td>\n",
       "    </tr>\n",
       "    <tr>\n",
       "      <th>thoracic_slope</th>\n",
       "      <td>309.0</td>\n",
       "      <td>13.059741</td>\n",
       "      <td>3.404188</td>\n",
       "      <td>7.037800</td>\n",
       "      <td>10.416000</td>\n",
       "      <td>12.919700</td>\n",
       "      <td>15.938100</td>\n",
       "      <td>19.324000</td>\n",
       "    </tr>\n",
       "    <tr>\n",
       "      <th>cervical_tilt</th>\n",
       "      <td>309.0</td>\n",
       "      <td>11.922406</td>\n",
       "      <td>2.891564</td>\n",
       "      <td>7.030600</td>\n",
       "      <td>9.535750</td>\n",
       "      <td>11.953700</td>\n",
       "      <td>14.358430</td>\n",
       "      <td>16.821080</td>\n",
       "    </tr>\n",
       "    <tr>\n",
       "      <th>sacrum_angle</th>\n",
       "      <td>309.0</td>\n",
       "      <td>-14.005873</td>\n",
       "      <td>12.217009</td>\n",
       "      <td>-35.287375</td>\n",
       "      <td>-24.275516</td>\n",
       "      <td>-14.550070</td>\n",
       "      <td>-3.494359</td>\n",
       "      <td>6.972071</td>\n",
       "    </tr>\n",
       "    <tr>\n",
       "      <th>scoliosis_slope</th>\n",
       "      <td>309.0</td>\n",
       "      <td>25.588161</td>\n",
       "      <td>10.417726</td>\n",
       "      <td>7.007900</td>\n",
       "      <td>17.165400</td>\n",
       "      <td>24.927800</td>\n",
       "      <td>33.915100</td>\n",
       "      <td>44.341200</td>\n",
       "    </tr>\n",
       "  </tbody>\n",
       "</table>\n",
       "</div>"
      ],
      "text/plain": [
       "                          count        mean        std        min         25%  \\\n",
       "pelvic_incidence          309.0   60.488461  17.263875  26.147921   46.426366   \n",
       "pelvic_tilt               309.0   17.526609  10.020486  -6.554948   10.659859   \n",
       "lumbar_lordosis_angle     309.0   51.970806  18.570850  14.000000   37.000000   \n",
       "sacral_slope              309.0   42.961852  13.444131  13.366931   33.340707   \n",
       "pelvic_radius             309.0  117.982945  13.293668  70.082575  110.709912   \n",
       "degree_spondylolisthesis  309.0   26.382620  37.589418 -11.058179    1.630664   \n",
       "pelvic_slope              309.0    0.472101   0.285831   0.003220    0.223550   \n",
       "direct_tilt               309.0   21.349861   8.638998   7.027000   13.181300   \n",
       "thoracic_slope            309.0   13.059741   3.404188   7.037800   10.416000   \n",
       "cervical_tilt             309.0   11.922406   2.891564   7.030600    9.535750   \n",
       "sacrum_angle              309.0  -14.005873  12.217009 -35.287375  -24.275516   \n",
       "scoliosis_slope           309.0   25.588161  10.417726   7.007900   17.165400   \n",
       "\n",
       "                                 50%         75%         max  \n",
       "pelvic_incidence           58.599529   72.955644  129.834041  \n",
       "pelvic_tilt                16.297915   21.936186   49.431864  \n",
       "lumbar_lordosis_angle      49.775534   63.000000  125.742385  \n",
       "sacral_slope               42.436230   52.744711  121.429566  \n",
       "pelvic_radius             118.343321  125.480174  163.071041  \n",
       "degree_spondylolisthesis   12.072644   41.422828  418.543082  \n",
       "pelvic_slope                0.474889    0.702208    0.998827  \n",
       "direct_tilt                21.907400   28.970300   36.743900  \n",
       "thoracic_slope             12.919700   15.938100   19.324000  \n",
       "cervical_tilt              11.953700   14.358430   16.821080  \n",
       "sacrum_angle              -14.550070   -3.494359    6.972071  \n",
       "scoliosis_slope            24.927800   33.915100   44.341200  "
      ]
     },
     "execution_count": 8,
     "metadata": {},
     "output_type": "execute_result"
    }
   ],
   "source": [
    "# Understanding the values of the data\n",
    "spine_data.describe().T"
   ]
  },
  {
   "cell_type": "markdown",
   "metadata": {},
   "source": [
    "Thus, we see that the mean the std of different features are very different hence, it'll be better to standardize the data."
   ]
  },
  {
   "cell_type": "code",
   "execution_count": 9,
   "metadata": {},
   "outputs": [
    {
     "data": {
      "text/plain": [
       "Abnormal    209\n",
       "Normal      100\n",
       "Name: class_att, dtype: int64"
      ]
     },
     "execution_count": 9,
     "metadata": {},
     "output_type": "execute_result"
    }
   ],
   "source": [
    "# Checking the class distribution of the data\n",
    "spine_data['class_att'].value_counts()"
   ]
  },
  {
   "cell_type": "code",
   "execution_count": 10,
   "metadata": {},
   "outputs": [
    {
     "data": {
      "image/png": "[encoded data removed]",
      "text/plain": [
       "<Figure size 720x576 with 1 Axes>"
      ]
     },
     "metadata": {
      "needs_background": "light"
     },
     "output_type": "display_data"
    }
   ],
   "source": [
    "# Alternatively\n",
    "plt.figure(figsize=(10,8))\n",
    "\n",
    "sns.countplot('class_att',data=spine_data)\n",
    "plt.xlabel('class_att')\n",
    "plt.ylabel('count')\n",
    "plt.show()"
   ]
  },
  {
   "cell_type": "code",
   "execution_count": 11,
   "metadata": {},
   "outputs": [
    {
     "data": {
      "image/png": "[encoded data removed]",
      "text/plain": [
       "<Figure size 432x288 with 1 Axes>"
      ]
     },
     "metadata": {
      "needs_background": "light"
     },
     "output_type": "display_data"
    }
   ],
   "source": [
    "# Understanding values for different features for each class\n",
    "sns.boxplot('class_att','pelvic_radius',data=spine_data)\n",
    "plt.xlabel('class_att')\n",
    "plt.ylabel('pelvic_radius')\n",
    "plt.show()"
   ]
  },
  {
   "cell_type": "markdown",
   "metadata": {},
   "source": [
    "We see that pelvic_radius values are higher for those who suffer for lower back pain."
   ]
  },
  {
   "cell_type": "markdown",
   "metadata": {},
   "source": [
    "## Encoding target values"
   ]
  },
  {
   "cell_type": "code",
   "execution_count": 12,
   "metadata": {},
   "outputs": [],
   "source": [
    "# Abnormal : 0 and Normal : 1\n",
    "spine_data['class_att']=np.where(spine_data['class_att']=='Abnormal',0,1)"
   ]
  },
  {
   "cell_type": "code",
   "execution_count": 13,
   "metadata": {},
   "outputs": [
    {
     "data": {
      "text/html": [
       "<div>\n",
       "<style scoped>\n",
       "    .dataframe tbody tr th:only-of-type {\n",
       "        vertical-align: middle;\n",
       "    }\n",
       "\n",
       "    .dataframe tbody tr th {\n",
       "        vertical-align: top;\n",
       "    }\n",
       "\n",
       "    .dataframe thead th {\n",
       "        text-align: right;\n",
       "    }\n",
       "</style>\n",
       "<table border=\"1\" class=\"dataframe\">\n",
       "  <thead>\n",
       "    <tr style=\"text-align: right;\">\n",
       "      <th></th>\n",
       "      <th>pelvic_incidence</th>\n",
       "      <th>pelvic_tilt</th>\n",
       "      <th>lumbar_lordosis_angle</th>\n",
       "      <th>sacral_slope</th>\n",
       "      <th>pelvic_radius</th>\n",
       "      <th>degree_spondylolisthesis</th>\n",
       "      <th>pelvic_slope</th>\n",
       "      <th>direct_tilt</th>\n",
       "      <th>thoracic_slope</th>\n",
       "      <th>cervical_tilt</th>\n",
       "      <th>sacrum_angle</th>\n",
       "      <th>scoliosis_slope</th>\n",
       "      <th>class_att</th>\n",
       "    </tr>\n",
       "  </thead>\n",
       "  <tbody>\n",
       "    <tr>\n",
       "      <th>0</th>\n",
       "      <td>66.285394</td>\n",
       "      <td>26.327845</td>\n",
       "      <td>47.500000</td>\n",
       "      <td>39.957549</td>\n",
       "      <td>121.219684</td>\n",
       "      <td>-0.799624</td>\n",
       "      <td>0.647626</td>\n",
       "      <td>9.0466</td>\n",
       "      <td>10.2636</td>\n",
       "      <td>13.50349</td>\n",
       "      <td>1.138079</td>\n",
       "      <td>34.3683</td>\n",
       "      <td>0</td>\n",
       "    </tr>\n",
       "    <tr>\n",
       "      <th>1</th>\n",
       "      <td>39.056951</td>\n",
       "      <td>10.060991</td>\n",
       "      <td>25.015378</td>\n",
       "      <td>28.995960</td>\n",
       "      <td>114.405425</td>\n",
       "      <td>4.564259</td>\n",
       "      <td>0.415186</td>\n",
       "      <td>12.8874</td>\n",
       "      <td>17.5323</td>\n",
       "      <td>16.78486</td>\n",
       "      <td>-25.530607</td>\n",
       "      <td>16.1102</td>\n",
       "      <td>0</td>\n",
       "    </tr>\n",
       "    <tr>\n",
       "      <th>2</th>\n",
       "      <td>57.035097</td>\n",
       "      <td>0.345728</td>\n",
       "      <td>49.198003</td>\n",
       "      <td>56.689369</td>\n",
       "      <td>103.048698</td>\n",
       "      <td>52.165145</td>\n",
       "      <td>0.561323</td>\n",
       "      <td>35.4921</td>\n",
       "      <td>14.1033</td>\n",
       "      <td>7.99506</td>\n",
       "      <td>-26.223143</td>\n",
       "      <td>40.1564</td>\n",
       "      <td>0</td>\n",
       "    </tr>\n",
       "    <tr>\n",
       "      <th>3</th>\n",
       "      <td>49.706610</td>\n",
       "      <td>13.040974</td>\n",
       "      <td>31.334500</td>\n",
       "      <td>36.665635</td>\n",
       "      <td>108.648265</td>\n",
       "      <td>-7.825986</td>\n",
       "      <td>0.688010</td>\n",
       "      <td>31.3502</td>\n",
       "      <td>16.5097</td>\n",
       "      <td>15.17645</td>\n",
       "      <td>-0.502127</td>\n",
       "      <td>18.3437</td>\n",
       "      <td>0</td>\n",
       "    </tr>\n",
       "    <tr>\n",
       "      <th>4</th>\n",
       "      <td>44.529051</td>\n",
       "      <td>9.433234</td>\n",
       "      <td>52.000000</td>\n",
       "      <td>35.095817</td>\n",
       "      <td>134.711772</td>\n",
       "      <td>29.106575</td>\n",
       "      <td>0.116627</td>\n",
       "      <td>22.0548</td>\n",
       "      <td>13.7595</td>\n",
       "      <td>16.77905</td>\n",
       "      <td>-7.146471</td>\n",
       "      <td>13.5143</td>\n",
       "      <td>0</td>\n",
       "    </tr>\n",
       "  </tbody>\n",
       "</table>\n",
       "</div>"
      ],
      "text/plain": [
       "   pelvic_incidence  pelvic_tilt  lumbar_lordosis_angle  sacral_slope  \\\n",
       "0         66.285394    26.327845              47.500000     39.957549   \n",
       "1         39.056951    10.060991              25.015378     28.995960   \n",
       "2         57.035097     0.345728              49.198003     56.689369   \n",
       "3         49.706610    13.040974              31.334500     36.665635   \n",
       "4         44.529051     9.433234              52.000000     35.095817   \n",
       "\n",
       "   pelvic_radius  degree_spondylolisthesis  pelvic_slope  direct_tilt  \\\n",
       "0     121.219684                 -0.799624      0.647626       9.0466   \n",
       "1     114.405425                  4.564259      0.415186      12.8874   \n",
       "2     103.048698                 52.165145      0.561323      35.4921   \n",
       "3     108.648265                 -7.825986      0.688010      31.3502   \n",
       "4     134.711772                 29.106575      0.116627      22.0548   \n",
       "\n",
       "   thoracic_slope  cervical_tilt  sacrum_angle  scoliosis_slope  class_att  \n",
       "0         10.2636       13.50349      1.138079          34.3683          0  \n",
       "1         17.5323       16.78486    -25.530607          16.1102          0  \n",
       "2         14.1033        7.99506    -26.223143          40.1564          0  \n",
       "3         16.5097       15.17645     -0.502127          18.3437          0  \n",
       "4         13.7595       16.77905     -7.146471          13.5143          0  "
      ]
     },
     "execution_count": 13,
     "metadata": {},
     "output_type": "execute_result"
    }
   ],
   "source": [
    "spine_data.head()"
   ]
  },
  {
   "cell_type": "code",
   "execution_count": 14,
   "metadata": {},
   "outputs": [],
   "source": [
    "# Extracting the features data and the target seperately\n",
    "features=spine_data.drop('class_att',axis=1)\n",
    "target=spine_data['class_att']"
   ]
  },
  {
   "cell_type": "markdown",
   "metadata": {},
   "source": [
    "## Data Standardization"
   ]
  },
  {
   "cell_type": "code",
   "execution_count": 15,
   "metadata": {},
   "outputs": [
    {
     "data": {
      "text/html": [
       "<div>\n",
       "<style scoped>\n",
       "    .dataframe tbody tr th:only-of-type {\n",
       "        vertical-align: middle;\n",
       "    }\n",
       "\n",
       "    .dataframe tbody tr th {\n",
       "        vertical-align: top;\n",
       "    }\n",
       "\n",
       "    .dataframe thead th {\n",
       "        text-align: right;\n",
       "    }\n",
       "</style>\n",
       "<table border=\"1\" class=\"dataframe\">\n",
       "  <thead>\n",
       "    <tr style=\"text-align: right;\">\n",
       "      <th></th>\n",
       "      <th>count</th>\n",
       "      <th>mean</th>\n",
       "      <th>std</th>\n",
       "      <th>min</th>\n",
       "      <th>25%</th>\n",
       "      <th>50%</th>\n",
       "      <th>75%</th>\n",
       "      <th>max</th>\n",
       "    </tr>\n",
       "  </thead>\n",
       "  <tbody>\n",
       "    <tr>\n",
       "      <th>pelvic_incidence</th>\n",
       "      <td>309.0</td>\n",
       "      <td>-5.662497e-16</td>\n",
       "      <td>1.001622</td>\n",
       "      <td>-1.992383</td>\n",
       "      <td>-0.815860</td>\n",
       "      <td>-0.109593</td>\n",
       "      <td>0.723326</td>\n",
       "      <td>4.023318</td>\n",
       "    </tr>\n",
       "    <tr>\n",
       "      <th>pelvic_tilt</th>\n",
       "      <td>309.0</td>\n",
       "      <td>-2.012055e-17</td>\n",
       "      <td>1.001622</td>\n",
       "      <td>-2.407131</td>\n",
       "      <td>-0.686383</td>\n",
       "      <td>-0.122817</td>\n",
       "      <td>0.440770</td>\n",
       "      <td>3.189167</td>\n",
       "    </tr>\n",
       "    <tr>\n",
       "      <th>lumbar_lordosis_angle</th>\n",
       "      <td>309.0</td>\n",
       "      <td>0.000000e+00</td>\n",
       "      <td>1.001622</td>\n",
       "      <td>-2.047962</td>\n",
       "      <td>-0.807453</td>\n",
       "      <td>-0.118402</td>\n",
       "      <td>0.594862</td>\n",
       "      <td>3.978883</td>\n",
       "    </tr>\n",
       "    <tr>\n",
       "      <th>sacral_slope</th>\n",
       "      <td>309.0</td>\n",
       "      <td>-1.954567e-16</td>\n",
       "      <td>1.001622</td>\n",
       "      <td>-2.204897</td>\n",
       "      <td>-0.716800</td>\n",
       "      <td>-0.039160</td>\n",
       "      <td>0.728848</td>\n",
       "      <td>5.846045</td>\n",
       "    </tr>\n",
       "    <tr>\n",
       "      <th>pelvic_radius</th>\n",
       "      <td>309.0</td>\n",
       "      <td>1.373946e-15</td>\n",
       "      <td>1.001622</td>\n",
       "      <td>-3.609092</td>\n",
       "      <td>-0.547993</td>\n",
       "      <td>0.027153</td>\n",
       "      <td>0.564885</td>\n",
       "      <td>3.397199</td>\n",
       "    </tr>\n",
       "    <tr>\n",
       "      <th>degree_spondylolisthesis</th>\n",
       "      <td>309.0</td>\n",
       "      <td>-6.898473e-17</td>\n",
       "      <td>1.001622</td>\n",
       "      <td>-0.997662</td>\n",
       "      <td>-0.659550</td>\n",
       "      <td>-0.381309</td>\n",
       "      <td>0.400767</td>\n",
       "      <td>10.449658</td>\n",
       "    </tr>\n",
       "    <tr>\n",
       "      <th>pelvic_slope</th>\n",
       "      <td>309.0</td>\n",
       "      <td>-2.874364e-18</td>\n",
       "      <td>1.001622</td>\n",
       "      <td>-1.643074</td>\n",
       "      <td>-0.870985</td>\n",
       "      <td>0.009772</td>\n",
       "      <td>0.806354</td>\n",
       "      <td>1.845781</td>\n",
       "    </tr>\n",
       "    <tr>\n",
       "      <th>direct_tilt</th>\n",
       "      <td>309.0</td>\n",
       "      <td>1.235976e-16</td>\n",
       "      <td>1.001622</td>\n",
       "      <td>-1.660620</td>\n",
       "      <td>-0.947079</td>\n",
       "      <td>0.064642</td>\n",
       "      <td>0.883528</td>\n",
       "      <td>1.784815</td>\n",
       "    </tr>\n",
       "    <tr>\n",
       "      <th>thoracic_slope</th>\n",
       "      <td>309.0</td>\n",
       "      <td>2.242004e-16</td>\n",
       "      <td>1.001622</td>\n",
       "      <td>-1.771849</td>\n",
       "      <td>-0.777874</td>\n",
       "      <td>-0.041205</td>\n",
       "      <td>0.846906</td>\n",
       "      <td>1.843147</td>\n",
       "    </tr>\n",
       "    <tr>\n",
       "      <th>cervical_tilt</th>\n",
       "      <td>309.0</td>\n",
       "      <td>1.609644e-16</td>\n",
       "      <td>1.001622</td>\n",
       "      <td>-1.694495</td>\n",
       "      <td>-0.826725</td>\n",
       "      <td>0.010840</td>\n",
       "      <td>0.843826</td>\n",
       "      <td>1.696874</td>\n",
       "    </tr>\n",
       "    <tr>\n",
       "      <th>sacrum_angle</th>\n",
       "      <td>309.0</td>\n",
       "      <td>-1.063515e-16</td>\n",
       "      <td>1.001622</td>\n",
       "      <td>-1.744782</td>\n",
       "      <td>-0.841966</td>\n",
       "      <td>-0.044616</td>\n",
       "      <td>0.861796</td>\n",
       "      <td>1.719895</td>\n",
       "    </tr>\n",
       "    <tr>\n",
       "      <th>scoliosis_slope</th>\n",
       "      <td>309.0</td>\n",
       "      <td>-1.092258e-16</td>\n",
       "      <td>1.001622</td>\n",
       "      <td>-1.786417</td>\n",
       "      <td>-0.809814</td>\n",
       "      <td>-0.063491</td>\n",
       "      <td>0.800601</td>\n",
       "      <td>1.803029</td>\n",
       "    </tr>\n",
       "  </tbody>\n",
       "</table>\n",
       "</div>"
      ],
      "text/plain": [
       "                          count          mean       std       min       25%  \\\n",
       "pelvic_incidence          309.0 -5.662497e-16  1.001622 -1.992383 -0.815860   \n",
       "pelvic_tilt               309.0 -2.012055e-17  1.001622 -2.407131 -0.686383   \n",
       "lumbar_lordosis_angle     309.0  0.000000e+00  1.001622 -2.047962 -0.807453   \n",
       "sacral_slope              309.0 -1.954567e-16  1.001622 -2.204897 -0.716800   \n",
       "pelvic_radius             309.0  1.373946e-15  1.001622 -3.609092 -0.547993   \n",
       "degree_spondylolisthesis  309.0 -6.898473e-17  1.001622 -0.997662 -0.659550   \n",
       "pelvic_slope              309.0 -2.874364e-18  1.001622 -1.643074 -0.870985   \n",
       "direct_tilt               309.0  1.235976e-16  1.001622 -1.660620 -0.947079   \n",
       "thoracic_slope            309.0  2.242004e-16  1.001622 -1.771849 -0.777874   \n",
       "cervical_tilt             309.0  1.609644e-16  1.001622 -1.694495 -0.826725   \n",
       "sacrum_angle              309.0 -1.063515e-16  1.001622 -1.744782 -0.841966   \n",
       "scoliosis_slope           309.0 -1.092258e-16  1.001622 -1.786417 -0.809814   \n",
       "\n",
       "                               50%       75%        max  \n",
       "pelvic_incidence         -0.109593  0.723326   4.023318  \n",
       "pelvic_tilt              -0.122817  0.440770   3.189167  \n",
       "lumbar_lordosis_angle    -0.118402  0.594862   3.978883  \n",
       "sacral_slope             -0.039160  0.728848   5.846045  \n",
       "pelvic_radius             0.027153  0.564885   3.397199  \n",
       "degree_spondylolisthesis -0.381309  0.400767  10.449658  \n",
       "pelvic_slope              0.009772  0.806354   1.845781  \n",
       "direct_tilt               0.064642  0.883528   1.784815  \n",
       "thoracic_slope           -0.041205  0.846906   1.843147  \n",
       "cervical_tilt             0.010840  0.843826   1.696874  \n",
       "sacrum_angle             -0.044616  0.861796   1.719895  \n",
       "scoliosis_slope          -0.063491  0.800601   1.803029  "
      ]
     },
     "execution_count": 15,
     "metadata": {},
     "output_type": "execute_result"
    }
   ],
   "source": [
    "scaler=StandardScaler()\n",
    "scaled_features=pd.DataFrame(scaler.fit_transform(features),\n",
    "                             columns=features.columns,\n",
    "                             index=features.index)\n",
    "scaled_features.describe().T"
   ]
  },
  {
   "cell_type": "code",
   "execution_count": 16,
   "metadata": {},
   "outputs": [
    {
     "data": {
      "text/plain": [
       "((262, 12), (47, 12))"
      ]
     },
     "execution_count": 16,
     "metadata": {},
     "output_type": "execute_result"
    }
   ],
   "source": [
    "# split the data into trainig and testing\n",
    "x_train,x_test,y_train,y_test=train_test_split(scaled_features,\n",
    "                                              target,\n",
    "                                              test_size=0.15,\n",
    "                                              random_state=10)\n",
    "x_train.shape,x_test.shape"
   ]
  },
  {
   "cell_type": "code",
   "execution_count": 17,
   "metadata": {},
   "outputs": [
    {
     "data": {
      "text/plain": [
       "((222, 12), (40, 12))"
      ]
     },
     "execution_count": 17,
     "metadata": {},
     "output_type": "execute_result"
    }
   ],
   "source": [
    "# further splitting the data into training and Validation\n",
    "x_train,x_val,y_train,y_val=train_test_split(x_train,\n",
    "                                            y_train,\n",
    "                                            test_size=0.15,\n",
    "                                            random_state=10)\n",
    "x_train.shape,x_val.shape"
   ]
  },
  {
   "cell_type": "markdown",
   "metadata": {},
   "source": [
    "## Building and Compiling the model\n",
    "The Keras `Functional API` is a way to create models that are more flexible than sequential models-models can have non-linear topology, shared layers, multiple inputs and outputs."
   ]
  },
  {
   "cell_type": "code",
   "execution_count": 18,
   "metadata": {},
   "outputs": [],
   "source": [
    "def build_and_compile_model():\n",
    "    inputs=tf.keras.Input(shape=(x_train.shape[1],))\n",
    "    # in functional API layers are callable hence needs to pass the i/p\n",
    "    x=layers.Dense(16,activation='relu')(inputs)\n",
    "    x=layers.Dropout(0.3)(x)\n",
    "    x=layers.Dense(8,activation='relu')(x)\n",
    "    predictions=layers.Dense(1,activation='sigmoid')(x)\n",
    "    \n",
    "    model=tf.keras.Model(inputs=inputs,outputs=predictions)\n",
    "    \n",
    "    model.summary()\n",
    "    \n",
    "    # BinaryCrossEntropy is the preferred loss for binary classification\n",
    "    # it is the same as the logloss\n",
    "    model.compile(optimizer=tf.keras.optimizers.RMSprop(0.001),\n",
    "                  loss=tf.keras.losses.BinaryCrossentropy(),\n",
    "                  metrics=['accuracy',\n",
    "                           tf.keras.metrics.Precision(0.5),\n",
    "                           tf.keras.metrics.Recall(0.5)])\n",
    "    \n",
    "    return model"
   ]
  },
  {
   "cell_type": "code",
   "execution_count": 19,
   "metadata": {},
   "outputs": [
    {
     "name": "stdout",
     "output_type": "stream",
     "text": [
      "Model: \"model\"\n",
      "_________________________________________________________________\n",
      "Layer (type)                 Output Shape              Param #   \n",
      "=================================================================\n",
      "input_1 (InputLayer)         [(None, 12)]              0         \n",
      "_________________________________________________________________\n",
      "dense (Dense)                (None, 16)                208       \n",
      "_________________________________________________________________\n",
      "dropout (Dropout)            (None, 16)                0         \n",
      "_________________________________________________________________\n",
      "dense_1 (Dense)              (None, 8)                 136       \n",
      "_________________________________________________________________\n",
      "dense_2 (Dense)              (None, 1)                 9         \n",
      "=================================================================\n",
      "Total params: 353\n",
      "Trainable params: 353\n",
      "Non-trainable params: 0\n",
      "_________________________________________________________________\n"
     ]
    }
   ],
   "source": [
    "model=build_and_compile_model()"
   ]
  },
  {
   "cell_type": "markdown",
   "metadata": {},
   "source": [
    "## Visualising the layers "
   ]
  },
  {
   "cell_type": "code",
   "execution_count": 20,
   "metadata": {},
   "outputs": [
    {
     "data": {
      "image/png": "[encoded data removed]",
      "text/plain": [
       "<IPython.core.display.Image object>"
      ]
     },
     "execution_count": 20,
     "metadata": {},
     "output_type": "execute_result"
    }
   ],
   "source": [
    "keras.utils.plot_model(model,show_shapes=True)"
   ]
  },
  {
   "cell_type": "markdown",
   "metadata": {},
   "source": [
    "## Dealing large amout of Data in TF\n",
    "When dealing with large amount of data it's convenient to work in batches of data rather than using a single large numpy array of data."
   ]
  },
  {
   "cell_type": "code",
   "execution_count": 21,
   "metadata": {},
   "outputs": [
    {
     "data": {
      "text/plain": [
       "<ShuffleDataset shapes: ((None, 12), (None,)), types: (tf.float64, tf.int64)>"
      ]
     },
     "execution_count": 21,
     "metadata": {},
     "output_type": "execute_result"
    }
   ],
   "source": [
    "data_train=tf.data.Dataset.from_tensor_slices((x_train.values,y_train.values))\n",
    "\n",
    "# Dividing data into batches of size 16\n",
    "data_train=data_train.batch(16)\n",
    "\n",
    "data_train.shuffle(128)"
   ]
  },
  {
   "cell_type": "code",
   "execution_count": 22,
   "metadata": {
    "scrolled": true
   },
   "outputs": [
    {
     "name": "stdout",
     "output_type": "stream",
     "text": [
      "Epoch 1/10\n",
      "14/14 [==============================] - 0s 2ms/step - loss: 0.6783 - accuracy: 0.6667 - precision: 0.0000e+00 - recall: 0.0000e+00\n",
      "Epoch 2/10\n",
      "14/14 [==============================] - 0s 2ms/step - loss: 0.6509 - accuracy: 0.6712 - precision: 0.0000e+00 - recall: 0.0000e+00\n",
      "Epoch 3/10\n",
      "14/14 [==============================] - 0s 2ms/step - loss: 0.6457 - accuracy: 0.6712 - precision: 0.0000e+00 - recall: 0.0000e+00\n",
      "Epoch 4/10\n",
      "14/14 [==============================] - 0s 2ms/step - loss: 0.6067 - accuracy: 0.6802 - precision: 1.0000 - recall: 0.0139    \n",
      "Epoch 5/10\n",
      "14/14 [==============================] - 0s 2ms/step - loss: 0.5925 - accuracy: 0.6802 - precision: 0.6667 - recall: 0.0278    \n",
      "Epoch 6/10\n",
      "14/14 [==============================] - 0s 2ms/step - loss: 0.5568 - accuracy: 0.6937 - precision: 0.8333 - recall: 0.0694    \n",
      "Epoch 7/10\n",
      "14/14 [==============================] - 0s 2ms/step - loss: 0.5400 - accuracy: 0.6892 - precision: 0.8000 - recall: 0.0556    \n",
      "Epoch 8/10\n",
      "14/14 [==============================] - 0s 2ms/step - loss: 0.5515 - accuracy: 0.6937 - precision: 0.7500 - recall: 0.0833    \n",
      "Epoch 9/10\n",
      "14/14 [==============================] - 0s 2ms/step - loss: 0.5202 - accuracy: 0.6937 - precision: 0.8333 - recall: 0.0694    \n",
      "Epoch 10/10\n",
      "14/14 [==============================] - 0s 2ms/step - loss: 0.5277 - accuracy: 0.6937 - precision: 0.6429 - recall: 0.1250\n"
     ]
    },
    {
     "data": {
      "text/plain": [
       "<tensorflow.python.keras.callbacks.History at 0x137dd2be0>"
      ]
     },
     "execution_count": 22,
     "metadata": {},
     "output_type": "execute_result"
    }
   ],
   "source": [
    "n_epochs=10\n",
    "model.fit(data_train,epochs=n_epochs)"
   ]
  },
  {
   "cell_type": "code",
   "execution_count": 23,
   "metadata": {},
   "outputs": [
    {
     "name": "stdout",
     "output_type": "stream",
     "text": [
      "Model: \"model_1\"\n",
      "_________________________________________________________________\n",
      "Layer (type)                 Output Shape              Param #   \n",
      "=================================================================\n",
      "input_2 (InputLayer)         [(None, 12)]              0         \n",
      "_________________________________________________________________\n",
      "dense_3 (Dense)              (None, 16)                208       \n",
      "_________________________________________________________________\n",
      "dropout_1 (Dropout)          (None, 16)                0         \n",
      "_________________________________________________________________\n",
      "dense_4 (Dense)              (None, 8)                 136       \n",
      "_________________________________________________________________\n",
      "dense_5 (Dense)              (None, 1)                 9         \n",
      "=================================================================\n",
      "Total params: 353\n",
      "Trainable params: 353\n",
      "Non-trainable params: 0\n",
      "_________________________________________________________________\n",
      "Epoch 1/10\n",
      "14/14 [==============================] - 0s 34ms/step - loss: 0.9158 - accuracy: 0.3919 - precision_1: 0.2667 - recall_1: 0.5000 - val_loss: 0.8623 - val_accuracy: 0.4000 - val_precision_1: 0.1579 - val_recall_1: 0.2727\n",
      "Epoch 2/10\n",
      "14/14 [==============================] - 0s 3ms/step - loss: 0.8548 - accuracy: 0.4279 - precision_1: 0.2477 - recall_1: 0.3750 - val_loss: 0.8029 - val_accuracy: 0.4750 - val_precision_1: 0.1429 - val_recall_1: 0.1818\n",
      "Epoch 3/10\n",
      "14/14 [==============================] - 0s 3ms/step - loss: 0.8073 - accuracy: 0.4369 - precision_1: 0.2476 - recall_1: 0.3611 - val_loss: 0.7533 - val_accuracy: 0.5500 - val_precision_1: 0.1818 - val_recall_1: 0.1818\n",
      "Epoch 4/10\n",
      "14/14 [==============================] - 0s 3ms/step - loss: 0.7463 - accuracy: 0.5090 - precision_1: 0.2658 - recall_1: 0.2917 - val_loss: 0.7162 - val_accuracy: 0.5500 - val_precision_1: 0.1111 - val_recall_1: 0.0909\n",
      "Epoch 5/10\n",
      "14/14 [==============================] - 0s 3ms/step - loss: 0.7195 - accuracy: 0.5631 - precision_1: 0.3239 - recall_1: 0.3194 - val_loss: 0.6817 - val_accuracy: 0.5750 - val_precision_1: 0.1250 - val_recall_1: 0.0909\n",
      "Epoch 6/10\n",
      "14/14 [==============================] - 0s 3ms/step - loss: 0.6798 - accuracy: 0.5766 - precision_1: 0.3226 - recall_1: 0.2778 - val_loss: 0.6530 - val_accuracy: 0.6250 - val_precision_1: 0.1667 - val_recall_1: 0.0909\n",
      "Epoch 7/10\n",
      "14/14 [==============================] - 0s 3ms/step - loss: 0.6437 - accuracy: 0.5991 - precision_1: 0.3396 - recall_1: 0.2500 - val_loss: 0.6294 - val_accuracy: 0.6750 - val_precision_1: 0.0000e+00 - val_recall_1: 0.0000e+00\n",
      "Epoch 8/10\n",
      "14/14 [==============================] - 0s 3ms/step - loss: 0.6375 - accuracy: 0.6441 - precision_1: 0.4054 - recall_1: 0.2083 - val_loss: 0.6090 - val_accuracy: 0.7000 - val_precision_1: 0.0000e+00 - val_recall_1: 0.0000e+00\n",
      "Epoch 9/10\n",
      "14/14 [==============================] - 0s 3ms/step - loss: 0.6114 - accuracy: 0.6486 - precision_1: 0.4211 - recall_1: 0.2222 - val_loss: 0.5913 - val_accuracy: 0.7000 - val_precision_1: 0.0000e+00 - val_recall_1: 0.0000e+00\n",
      "Epoch 10/10\n",
      "14/14 [==============================] - 0s 3ms/step - loss: 0.5918 - accuracy: 0.6486 - precision_1: 0.4000 - recall_1: 0.1667 - val_loss: 0.5768 - val_accuracy: 0.7000 - val_precision_1: 0.0000e+00 - val_recall_1: 0.0000e+00\n"
     ]
    }
   ],
   "source": [
    "# Using validation set along training data\n",
    "data_val=tf.data.Dataset.from_tensor_slices((x_val.values,y_val.values))\n",
    "data_val=data_val.batch(16)\n",
    "\n",
    "model=build_and_compile_model()\n",
    "\n",
    "training_hist=model.fit(data_train,\n",
    "                       epochs=n_epochs,\n",
    "                       validation_data=data_val)"
   ]
  },
  {
   "cell_type": "markdown",
   "metadata": {},
   "source": [
    "## Visualisation for loss and Accuracy"
   ]
  },
  {
   "cell_type": "code",
   "execution_count": 25,
   "metadata": {},
   "outputs": [
    {
     "data": {
      "image/png": "[encoded data removed]",
      "text/plain": [
       "<Figure size 720x576 with 2 Axes>"
      ]
     },
     "metadata": {
      "needs_background": "light"
     },
     "output_type": "display_data"
    }
   ],
   "source": [
    "train_acc=training_hist.history['accuracy']\n",
    "train_loss=training_hist.history['loss']\n",
    "\n",
    "precision=training_hist.history['precision_1']\n",
    "recall=training_hist.history['recall_1']\n",
    "\n",
    "epoch_range=range(n_epochs)\n",
    "\n",
    "plt.figure(figsize=(10,8))\n",
    "\n",
    "plt.subplot(1,2,1)\n",
    "plt.plot(epoch_range,train_acc,label='Training Accuracy')\n",
    "plt.plot(epoch_range,train_loss,label='Training Loss')\n",
    "plt.title('Accuracy and Loss')\n",
    "plt.legend(loc='best')\n",
    "\n",
    "plt.subplot(1,2,2)\n",
    "plt.plot(epoch_range,precision,label='Precision')\n",
    "plt.plot(epoch_range,recall,label='Recall')\n",
    "plt.title('Precision and Recall')\n",
    "plt.legend(loc='best')\n",
    "plt.show()"
   ]
  },
  {
   "cell_type": "markdown",
   "metadata": {},
   "source": [
    "## Predictions"
   ]
  },
  {
   "cell_type": "code",
   "execution_count": 26,
   "metadata": {},
   "outputs": [
    {
     "data": {
      "text/plain": [
       "array([[0.33693045],\n",
       "       [0.39007148],\n",
       "       [0.41651535],\n",
       "       [0.26439852],\n",
       "       [0.3055861 ],\n",
       "       [0.4502408 ],\n",
       "       [0.3992074 ],\n",
       "       [0.5384782 ],\n",
       "       [0.30497235],\n",
       "       [0.52635384]], dtype=float32)"
      ]
     },
     "execution_count": 26,
     "metadata": {},
     "output_type": "execute_result"
    }
   ],
   "source": [
    "y_pred=model.predict(x_test)\n",
    "\n",
    "y_pred[:10]"
   ]
  },
  {
   "cell_type": "markdown",
   "metadata": {},
   "source": [
    "It gives us the probability values for all the observations"
   ]
  },
  {
   "cell_type": "code",
   "execution_count": 27,
   "metadata": {},
   "outputs": [
    {
     "data": {
      "text/plain": [
       "array([[0],\n",
       "       [0],\n",
       "       [0],\n",
       "       [0],\n",
       "       [0],\n",
       "       [0],\n",
       "       [0],\n",
       "       [1],\n",
       "       [0],\n",
       "       [1]])"
      ]
     },
     "execution_count": 27,
     "metadata": {},
     "output_type": "execute_result"
    }
   ],
   "source": [
    "y_pred=np.where(y_pred>=0.5,1,0)\n",
    "y_pred[:10]"
   ]
  },
  {
   "cell_type": "code",
   "execution_count": 28,
   "metadata": {},
   "outputs": [
    {
     "data": {
      "text/html": [
       "<div>\n",
       "<style scoped>\n",
       "    .dataframe tbody tr th:only-of-type {\n",
       "        vertical-align: middle;\n",
       "    }\n",
       "\n",
       "    .dataframe tbody tr th {\n",
       "        vertical-align: top;\n",
       "    }\n",
       "\n",
       "    .dataframe thead th {\n",
       "        text-align: right;\n",
       "    }\n",
       "</style>\n",
       "<table border=\"1\" class=\"dataframe\">\n",
       "  <thead>\n",
       "    <tr style=\"text-align: right;\">\n",
       "      <th></th>\n",
       "      <th>y_test</th>\n",
       "      <th>y_pred</th>\n",
       "    </tr>\n",
       "  </thead>\n",
       "  <tbody>\n",
       "    <tr>\n",
       "      <th>0</th>\n",
       "      <td>0</td>\n",
       "      <td>0</td>\n",
       "    </tr>\n",
       "    <tr>\n",
       "      <th>1</th>\n",
       "      <td>1</td>\n",
       "      <td>0</td>\n",
       "    </tr>\n",
       "    <tr>\n",
       "      <th>2</th>\n",
       "      <td>0</td>\n",
       "      <td>0</td>\n",
       "    </tr>\n",
       "    <tr>\n",
       "      <th>3</th>\n",
       "      <td>0</td>\n",
       "      <td>0</td>\n",
       "    </tr>\n",
       "    <tr>\n",
       "      <th>4</th>\n",
       "      <td>0</td>\n",
       "      <td>0</td>\n",
       "    </tr>\n",
       "  </tbody>\n",
       "</table>\n",
       "</div>"
      ],
      "text/plain": [
       "   y_test  y_pred\n",
       "0       0       0\n",
       "1       1       0\n",
       "2       0       0\n",
       "3       0       0\n",
       "4       0       0"
      ]
     },
     "execution_count": 28,
     "metadata": {},
     "output_type": "execute_result"
    }
   ],
   "source": [
    "# Let's create a dataframe to create a confusion matrix\n",
    "pred_results=pd.DataFrame({'y_test':y_test.values.flatten(),\n",
    "                           'y_pred':y_pred.flatten().astype('int32')},\n",
    "                          index=range(len(y_pred)))\n",
    "pred_results.head()"
   ]
  },
  {
   "cell_type": "code",
   "execution_count": 29,
   "metadata": {},
   "outputs": [
    {
     "data": {
      "text/html": [
       "<div>\n",
       "<style scoped>\n",
       "    .dataframe tbody tr th:only-of-type {\n",
       "        vertical-align: middle;\n",
       "    }\n",
       "\n",
       "    .dataframe tbody tr th {\n",
       "        vertical-align: top;\n",
       "    }\n",
       "\n",
       "    .dataframe thead th {\n",
       "        text-align: right;\n",
       "    }\n",
       "</style>\n",
       "<table border=\"1\" class=\"dataframe\">\n",
       "  <thead>\n",
       "    <tr style=\"text-align: right;\">\n",
       "      <th>y_test</th>\n",
       "      <th>0</th>\n",
       "      <th>1</th>\n",
       "    </tr>\n",
       "    <tr>\n",
       "      <th>y_pred</th>\n",
       "      <th></th>\n",
       "      <th></th>\n",
       "    </tr>\n",
       "  </thead>\n",
       "  <tbody>\n",
       "    <tr>\n",
       "      <th>0</th>\n",
       "      <td>26</td>\n",
       "      <td>13</td>\n",
       "    </tr>\n",
       "    <tr>\n",
       "      <th>1</th>\n",
       "      <td>4</td>\n",
       "      <td>4</td>\n",
       "    </tr>\n",
       "  </tbody>\n",
       "</table>\n",
       "</div>"
      ],
      "text/plain": [
       "y_test   0   1\n",
       "y_pred        \n",
       "0       26  13\n",
       "1        4   4"
      ]
     },
     "execution_count": 29,
     "metadata": {},
     "output_type": "execute_result"
    }
   ],
   "source": [
    "# Creates a confusion matrix\n",
    "pd.crosstab(pred_results.y_pred,pred_results.y_test)"
   ]
  },
  {
   "cell_type": "markdown",
   "metadata": {},
   "source": [
    "[TN,TP,FN,FP] => [26,4,13,4]"
   ]
  },
  {
   "cell_type": "code",
   "execution_count": 30,
   "metadata": {},
   "outputs": [
    {
     "data": {
      "text/plain": [
       "0.6382978723404256"
      ]
     },
     "execution_count": 30,
     "metadata": {},
     "output_type": "execute_result"
    }
   ],
   "source": [
    "accuracy_score(y_test,y_pred)"
   ]
  },
  {
   "cell_type": "markdown",
   "metadata": {},
   "source": [
    "## Checkpoints \n",
    "It is better to have checkpoints while training a model over a large dataset, because if it fails at some point during training it'll be easier for us to resume training after a last safe checkpoint."
   ]
  },
  {
   "cell_type": "code",
   "execution_count": 37,
   "metadata": {},
   "outputs": [],
   "source": [
    "ckpt_path='my_models/spine_classification'\n",
    "ckpt_dir=os.path.dirname(ckpt_path)\n",
    "\n",
    "# Creates a check point after every 3 epochs\n",
    "ckpt_callbacks=tf.keras.callbacks.ModelCheckpoint(filepath=ckpt_path,\n",
    "                                                  save_weights_only=True,\n",
    "                                                  save_freq=3,\n",
    "                                                  verbose=False)"
   ]
  },
  {
   "cell_type": "code",
   "execution_count": 38,
   "metadata": {},
   "outputs": [
    {
     "name": "stdout",
     "output_type": "stream",
     "text": [
      "Model: \"model_2\"\n",
      "_________________________________________________________________\n",
      "Layer (type)                 Output Shape              Param #   \n",
      "=================================================================\n",
      "input_3 (InputLayer)         [(None, 12)]              0         \n",
      "_________________________________________________________________\n",
      "dense_6 (Dense)              (None, 16)                208       \n",
      "_________________________________________________________________\n",
      "dropout_2 (Dropout)          (None, 16)                0         \n",
      "_________________________________________________________________\n",
      "dense_7 (Dense)              (None, 8)                 136       \n",
      "_________________________________________________________________\n",
      "dense_8 (Dense)              (None, 1)                 9         \n",
      "=================================================================\n",
      "Total params: 353\n",
      "Trainable params: 353\n",
      "Non-trainable params: 0\n",
      "_________________________________________________________________\n"
     ]
    },
    {
     "data": {
      "text/plain": [
       "<tensorflow.python.keras.callbacks.History at 0x13b4df748>"
      ]
     },
     "execution_count": 38,
     "metadata": {},
     "output_type": "execute_result"
    }
   ],
   "source": [
    "model=build_and_compile_model()\n",
    "\n",
    "model.fit(data_train,\n",
    "         epochs=n_epochs,\n",
    "         validation_data=data_val,\n",
    "         verbose=False,\n",
    "         callbacks=[ckpt_callbacks])"
   ]
  },
  {
   "cell_type": "code",
   "execution_count": 39,
   "metadata": {},
   "outputs": [
    {
     "name": "stdout",
     "output_type": "stream",
     "text": [
      "checkpoint\r\n",
      "relu_64_config.json\r\n",
      "relu_64_weights.data-00000-of-00001\r\n",
      "relu_64_weights.h5\r\n",
      "relu_64_weights.index\r\n",
      "\u001b[34mrelu_ES_config_weights\u001b[m\u001b[m\r\n",
      "spine_classification.data-00000-of-00001\r\n",
      "spine_classification.index\r\n"
     ]
    }
   ],
   "source": [
    "! ls my_models/ "
   ]
  },
  {
   "cell_type": "markdown",
   "metadata": {},
   "source": [
    "We see last two entries for the saved parameters of the spine classification task."
   ]
  },
  {
   "cell_type": "code",
   "execution_count": 40,
   "metadata": {},
   "outputs": [
    {
     "data": {
      "text/plain": [
       "0.723404255319149"
      ]
     },
     "execution_count": 40,
     "metadata": {},
     "output_type": "execute_result"
    }
   ],
   "source": [
    "# Let's make the prediction\n",
    "y_pred=model.predict(x_test)\n",
    "\n",
    "y_pred=np.where(y_pred>=0.5,1,0)\n",
    "\n",
    "accuracy_score(y_test,y_pred)"
   ]
  },
  {
   "cell_type": "markdown",
   "metadata": {},
   "source": [
    "## Reloading the saved models"
   ]
  },
  {
   "cell_type": "code",
   "execution_count": 41,
   "metadata": {},
   "outputs": [
    {
     "name": "stdout",
     "output_type": "stream",
     "text": [
      "Model: \"model_3\"\n",
      "_________________________________________________________________\n",
      "Layer (type)                 Output Shape              Param #   \n",
      "=================================================================\n",
      "input_4 (InputLayer)         [(None, 12)]              0         \n",
      "_________________________________________________________________\n",
      "dense_9 (Dense)              (None, 16)                208       \n",
      "_________________________________________________________________\n",
      "dropout_3 (Dropout)          (None, 16)                0         \n",
      "_________________________________________________________________\n",
      "dense_10 (Dense)             (None, 8)                 136       \n",
      "_________________________________________________________________\n",
      "dense_11 (Dense)             (None, 1)                 9         \n",
      "=================================================================\n",
      "Total params: 353\n",
      "Trainable params: 353\n",
      "Non-trainable params: 0\n",
      "_________________________________________________________________\n"
     ]
    },
    {
     "data": {
      "text/plain": [
       "<tensorflow.python.training.tracking.util.CheckpointLoadStatus at 0x13c2edc18>"
      ]
     },
     "execution_count": 41,
     "metadata": {},
     "output_type": "execute_result"
    }
   ],
   "source": [
    "reloaded_model=build_and_compile_model()\n",
    "reloaded_model.load_weights(ckpt_path)"
   ]
  },
  {
   "cell_type": "code",
   "execution_count": 42,
   "metadata": {},
   "outputs": [
    {
     "data": {
      "text/plain": [
       "0.723404255319149"
      ]
     },
     "execution_count": 42,
     "metadata": {},
     "output_type": "execute_result"
    }
   ],
   "source": [
    "# Checking if this model has the same accuracy as the prev one\n",
    "# Let's make the prediction\n",
    "y_pred=reloaded_model.predict(x_test)\n",
    "y_pred=np.where(y_pred>=0.5,1,0)\n",
    "accuracy_score(y_test,y_pred)"
   ]
  },
  {
   "cell_type": "code",
   "execution_count": 43,
   "metadata": {},
   "outputs": [
    {
     "data": {
      "text/plain": [
       "<tensorflow.python.keras.callbacks.History at 0x13c50a470>"
      ]
     },
     "execution_count": 43,
     "metadata": {},
     "output_type": "execute_result"
    }
   ],
   "source": [
    "# Training this model for 5 more epochs\n",
    "reloaded_model.fit(data_train,\n",
    "                  epochs=5,\n",
    "                  validation_data=data_val,\n",
    "                  verbose=False)"
   ]
  },
  {
   "cell_type": "code",
   "execution_count": 44,
   "metadata": {},
   "outputs": [
    {
     "data": {
      "text/plain": [
       "0.7446808510638298"
      ]
     },
     "execution_count": 44,
     "metadata": {},
     "output_type": "execute_result"
    }
   ],
   "source": [
    "# Now the model has been trained for 15 epochs total\n",
    "# Checking the accuracy for this model\n",
    "# Let's make the prediction\n",
    "y_pred=reloaded_model.predict(x_test)\n",
    "y_pred=np.where(y_pred>=0.5,1,0)\n",
    "accuracy_score(y_test,y_pred)"
   ]
  },
  {
   "cell_type": "markdown",
   "metadata": {},
   "source": [
    "Hence, as expected the accuracy of the model increases as we increase the epochs"
   ]
  },
  {
   "cell_type": "markdown",
   "metadata": {},
   "source": [
    "## Visualising using Tensorboard"
   ]
  },
  {
   "cell_type": "code",
   "execution_count": 52,
   "metadata": {},
   "outputs": [
    {
     "name": "stdout",
     "output_type": "stream",
     "text": [
      "Model: \"model\"\n",
      "_________________________________________________________________\n",
      "Layer (type)                 Output Shape              Param #   \n",
      "=================================================================\n",
      "input_1 (InputLayer)         [(None, 12)]              0         \n",
      "_________________________________________________________________\n",
      "dense (Dense)                (None, 16)                208       \n",
      "_________________________________________________________________\n",
      "dropout (Dropout)            (None, 16)                0         \n",
      "_________________________________________________________________\n",
      "dense_1 (Dense)              (None, 8)                 136       \n",
      "_________________________________________________________________\n",
      "dense_2 (Dense)              (None, 1)                 9         \n",
      "=================================================================\n",
      "Total params: 353\n",
      "Trainable params: 353\n",
      "Non-trainable params: 0\n",
      "_________________________________________________________________\n"
     ]
    }
   ],
   "source": [
    "model=build_and_compile_model()"
   ]
  },
  {
   "cell_type": "code",
   "execution_count": 53,
   "metadata": {},
   "outputs": [],
   "source": [
    "log_dir='logs/'+dt.datetime.now().strftime('%Y%m%d-%H%M%S')\n",
    "tensorboard_callbacks=tf.keras.callbacks.TensorBoard(log_dir=log_dir,\n",
    "                                                    histogram_freq=1)"
   ]
  },
  {
   "cell_type": "code",
   "execution_count": 54,
   "metadata": {},
   "outputs": [
    {
     "data": {
      "text/plain": [
       "<tensorflow.python.keras.callbacks.History at 0x13d289be0>"
      ]
     },
     "execution_count": 54,
     "metadata": {},
     "output_type": "execute_result"
    }
   ],
   "source": [
    "model.fit(data_train,\n",
    "         epochs=n_epochs,\n",
    "         verbose=False,\n",
    "         validation_data=data_val,\n",
    "         callbacks=[tensorboard_callbacks])"
   ]
  },
  {
   "cell_type": "code",
   "execution_count": 55,
   "metadata": {},
   "outputs": [
    {
     "name": "stdout",
     "output_type": "stream",
     "text": [
      "The tensorboard extension is already loaded. To reload it, use:\n",
      "  %reload_ext tensorboard\n"
     ]
    }
   ],
   "source": [
    "# magic f'n load_ext is used to make tensorboard visualisation in jupyter notebook\n",
    "%load_ext tensorboard"
   ]
  },
  {
   "cell_type": "code",
   "execution_count": 56,
   "metadata": {
    "scrolled": true
   },
   "outputs": [
    {
     "data": {
      "text/plain": [
       "Reusing TensorBoard on port 6006 (pid 4068), started 0:03:48 ago. (Use '!kill 4068' to kill it.)"
      ]
     },
     "metadata": {},
     "output_type": "display_data"
    },
    {
     "data": {
      "text/html": [
       "\n",
       "      <iframe id=\"tensorboard-frame-1b73f2ce946bc550\" width=\"100%\" height=\"800\" frameborder=\"0\">\n",
       "      </iframe>\n",
       "      <script>\n",
       "        (function() {\n",
       "          const frame = document.getElementById(\"tensorboard-frame-1b73f2ce946bc550\");\n",
       "          const url = new URL(\"/\", window.location);\n",
       "          url.port = 6006;\n",
       "          frame.src = url;\n",
       "        })();\n",
       "      </script>\n",
       "  "
      ],
      "text/plain": [
       "<IPython.core.display.HTML object>"
      ]
     },
     "metadata": {},
     "output_type": "display_data"
    }
   ],
   "source": [
    "%tensorboard --logdir logs/"
   ]
  },
  {
   "cell_type": "markdown",
   "metadata": {},
   "source": [
    "Using Tensorboad like this takes lot of time, hence it is advised to directly interact with tensorboard via terminal(directly type in the above command in the tensorboard)"
   ]
  },
  {
   "cell_type": "code",
   "execution_count": null,
   "metadata": {},
   "outputs": [],
   "source": []
  }
 ],
 "metadata": {
  "kernelspec": {
   "display_name": "Python 3",
   "language": "python",
   "name": "python3"
  },
  "language_info": {
   "codemirror_mode": {
    "name": "ipython",
    "version": 3
   },
   "file_extension": ".py",
   "mimetype": "text/x-python",
   "name": "python",
   "nbconvert_exporter": "python",
   "pygments_lexer": "ipython3",
   "version": "3.6.10"
  }
 },
 "nbformat": 4,
 "nbformat_minor": 4
}
