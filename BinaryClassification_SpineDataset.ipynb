{
 "cells": [
  {
   "cell_type": "code",
   "execution_count": 55,
   "metadata": {},
   "outputs": [],
   "source": [
    "import pandas as pd\n",
    "import numpy as np\n",
    "\n",
    "import matplotlib.pyplot as plt\n",
    "import seaborn as sns\n",
    "%matplotlib inline\n",
    "\n",
    "from sklearn.preprocessing import StandardScaler\n",
    "from sklearn.metrics import accuracy_score,precision_score,recall_score\n",
    "from sklearn.model_selection import train_test_split\n",
    "\n",
    "import tensorflow as tf\n",
    "from tensorflow import keras\n",
    "from tensorflow.keras import layers\n",
    "\n",
    "# Destroys the current tf graph and session and creates a new one\n",
    "# used when we are using same Python Kernel for creating multiple NN\n",
    "tf.keras.backend.clear_session()"
   ]
  },
  {
   "cell_type": "markdown",
   "metadata": {},
   "source": [
    "## Loading the dataset\n",
    "[Info about dataset](https://www.kaggle.com/sammy123/lower-back-pain-symptoms-dataset)"
   ]
  },
  {
   "cell_type": "code",
   "execution_count": 22,
   "metadata": {},
   "outputs": [],
   "source": [
    "spine_data=pd.read_csv('datasets/Dataset_spine.csv',skiprows=1)\n",
    "\n",
    "spine_data=spine_data.drop('Unnamed: 13',axis=1)\n",
    "\n",
    "spine_data.columns=['pelvic_incidence',\n",
    "                             'pelvic_tilt',\n",
    "                             'lumbar_lordosis_angle',\n",
    "                             'sacral_slope',\n",
    "                             'pelvic_radius',\n",
    "                             'degree_spondylolisthesis',\n",
    "                             'pelvic_slope',\n",
    "                             'direct_tilt',\n",
    "                             'thoracic_slope',\n",
    "                             'cervical_tilt',\n",
    "                             'sacrum_angle',\n",
    "                             'scoliosis_slope',\n",
    "                             'class_att']\n",
    "\n",
    "spine_data=spine_data.sample(frac=1).reset_index(drop=True)"
   ]
  },
  {
   "cell_type": "code",
   "execution_count": 23,
   "metadata": {},
   "outputs": [
    {
     "data": {
      "text/html": [
       "<div>\n",
       "<style scoped>\n",
       "    .dataframe tbody tr th:only-of-type {\n",
       "        vertical-align: middle;\n",
       "    }\n",
       "\n",
       "    .dataframe tbody tr th {\n",
       "        vertical-align: top;\n",
       "    }\n",
       "\n",
       "    .dataframe thead th {\n",
       "        text-align: right;\n",
       "    }\n",
       "</style>\n",
       "<table border=\"1\" class=\"dataframe\">\n",
       "  <thead>\n",
       "    <tr style=\"text-align: right;\">\n",
       "      <th></th>\n",
       "      <th>0</th>\n",
       "      <th>1</th>\n",
       "      <th>2</th>\n",
       "      <th>3</th>\n",
       "      <th>4</th>\n",
       "    </tr>\n",
       "  </thead>\n",
       "  <tbody>\n",
       "    <tr>\n",
       "      <th>pelvic_incidence</th>\n",
       "      <td>50.8193</td>\n",
       "      <td>65.0138</td>\n",
       "      <td>53.4329</td>\n",
       "      <td>34.3823</td>\n",
       "      <td>64.624</td>\n",
       "    </tr>\n",
       "    <tr>\n",
       "      <th>pelvic_tilt</th>\n",
       "      <td>15.4022</td>\n",
       "      <td>9.83826</td>\n",
       "      <td>15.8643</td>\n",
       "      <td>2.06268</td>\n",
       "      <td>15.2253</td>\n",
       "    </tr>\n",
       "    <tr>\n",
       "      <th>lumbar_lordosis_angle</th>\n",
       "      <td>42.5289</td>\n",
       "      <td>57.7358</td>\n",
       "      <td>37.1659</td>\n",
       "      <td>32.3908</td>\n",
       "      <td>67.6322</td>\n",
       "    </tr>\n",
       "    <tr>\n",
       "      <th>sacral_slope</th>\n",
       "      <td>35.4171</td>\n",
       "      <td>55.1755</td>\n",
       "      <td>37.5686</td>\n",
       "      <td>32.3196</td>\n",
       "      <td>49.3987</td>\n",
       "    </tr>\n",
       "    <tr>\n",
       "      <th>pelvic_radius</th>\n",
       "      <td>112.193</td>\n",
       "      <td>94.7385</td>\n",
       "      <td>120.568</td>\n",
       "      <td>128.3</td>\n",
       "      <td>90.2985</td>\n",
       "    </tr>\n",
       "    <tr>\n",
       "      <th>degree_spondylolisthesis</th>\n",
       "      <td>10.8696</td>\n",
       "      <td>49.697</td>\n",
       "      <td>5.98855</td>\n",
       "      <td>-3.36552</td>\n",
       "      <td>31.3264</td>\n",
       "    </tr>\n",
       "    <tr>\n",
       "      <th>pelvic_slope</th>\n",
       "      <td>0.678987</td>\n",
       "      <td>0.151994</td>\n",
       "      <td>0.19892</td>\n",
       "      <td>0.581169</td>\n",
       "      <td>0.781686</td>\n",
       "    </tr>\n",
       "    <tr>\n",
       "      <th>direct_tilt</th>\n",
       "      <td>7.1103</td>\n",
       "      <td>14.3986</td>\n",
       "      <td>13.8514</td>\n",
       "      <td>12.0774</td>\n",
       "      <td>24.7626</td>\n",
       "    </tr>\n",
       "    <tr>\n",
       "      <th>thoracic_slope</th>\n",
       "      <td>7.2481</td>\n",
       "      <td>8.9024</td>\n",
       "      <td>10.7146</td>\n",
       "      <td>16.6255</td>\n",
       "      <td>18.5975</td>\n",
       "    </tr>\n",
       "    <tr>\n",
       "      <th>cervical_tilt</th>\n",
       "      <td>9.94785</td>\n",
       "      <td>10.843</td>\n",
       "      <td>11.3783</td>\n",
       "      <td>7.20496</td>\n",
       "      <td>13.0176</td>\n",
       "    </tr>\n",
       "    <tr>\n",
       "      <th>sacrum_angle</th>\n",
       "      <td>-17.3792</td>\n",
       "      <td>6.57383</td>\n",
       "      <td>-20.5104</td>\n",
       "      <td>-31.3748</td>\n",
       "      <td>-20.5263</td>\n",
       "    </tr>\n",
       "    <tr>\n",
       "      <th>scoliosis_slope</th>\n",
       "      <td>14.7187</td>\n",
       "      <td>35.1025</td>\n",
       "      <td>25.9477</td>\n",
       "      <td>29.5748</td>\n",
       "      <td>17.3548</td>\n",
       "    </tr>\n",
       "    <tr>\n",
       "      <th>class_att</th>\n",
       "      <td>Abnormal</td>\n",
       "      <td>Abnormal</td>\n",
       "      <td>Abnormal</td>\n",
       "      <td>Normal</td>\n",
       "      <td>Abnormal</td>\n",
       "    </tr>\n",
       "  </tbody>\n",
       "</table>\n",
       "</div>"
      ],
      "text/plain": [
       "                                 0         1         2         3         4\n",
       "pelvic_incidence           50.8193   65.0138   53.4329   34.3823    64.624\n",
       "pelvic_tilt                15.4022   9.83826   15.8643   2.06268   15.2253\n",
       "lumbar_lordosis_angle      42.5289   57.7358   37.1659   32.3908   67.6322\n",
       "sacral_slope               35.4171   55.1755   37.5686   32.3196   49.3987\n",
       "pelvic_radius              112.193   94.7385   120.568     128.3   90.2985\n",
       "degree_spondylolisthesis   10.8696    49.697   5.98855  -3.36552   31.3264\n",
       "pelvic_slope              0.678987  0.151994   0.19892  0.581169  0.781686\n",
       "direct_tilt                 7.1103   14.3986   13.8514   12.0774   24.7626\n",
       "thoracic_slope              7.2481    8.9024   10.7146   16.6255   18.5975\n",
       "cervical_tilt              9.94785    10.843   11.3783   7.20496   13.0176\n",
       "sacrum_angle              -17.3792   6.57383  -20.5104  -31.3748  -20.5263\n",
       "scoliosis_slope            14.7187   35.1025   25.9477   29.5748   17.3548\n",
       "class_att                 Abnormal  Abnormal  Abnormal    Normal  Abnormal"
      ]
     },
     "execution_count": 23,
     "metadata": {},
     "output_type": "execute_result"
    }
   ],
   "source": [
    "spine_data.head().T"
   ]
  },
  {
   "cell_type": "markdown",
   "metadata": {},
   "source": [
    "Different features that help us understand the condition of a person and know who can suffer from lower back injury."
   ]
  },
  {
   "cell_type": "code",
   "execution_count": 25,
   "metadata": {},
   "outputs": [
    {
     "data": {
      "text/plain": [
       "(309, 13)"
      ]
     },
     "execution_count": 25,
     "metadata": {},
     "output_type": "execute_result"
    }
   ],
   "source": [
    "spine_data.shape"
   ]
  },
  {
   "cell_type": "code",
   "execution_count": 28,
   "metadata": {},
   "outputs": [
    {
     "data": {
      "text/plain": [
       "array(['Abnormal', 'Normal'], dtype=object)"
      ]
     },
     "execution_count": 28,
     "metadata": {},
     "output_type": "execute_result"
    }
   ],
   "source": [
    "# Different Classes\n",
    "spine_data['class_att'].unique()"
   ]
  },
  {
   "cell_type": "code",
   "execution_count": 29,
   "metadata": {},
   "outputs": [
    {
     "data": {
      "text/html": [
       "<div>\n",
       "<style scoped>\n",
       "    .dataframe tbody tr th:only-of-type {\n",
       "        vertical-align: middle;\n",
       "    }\n",
       "\n",
       "    .dataframe tbody tr th {\n",
       "        vertical-align: top;\n",
       "    }\n",
       "\n",
       "    .dataframe thead th {\n",
       "        text-align: right;\n",
       "    }\n",
       "</style>\n",
       "<table border=\"1\" class=\"dataframe\">\n",
       "  <thead>\n",
       "    <tr style=\"text-align: right;\">\n",
       "      <th></th>\n",
       "      <th>count</th>\n",
       "      <th>mean</th>\n",
       "      <th>std</th>\n",
       "      <th>min</th>\n",
       "      <th>25%</th>\n",
       "      <th>50%</th>\n",
       "      <th>75%</th>\n",
       "      <th>max</th>\n",
       "    </tr>\n",
       "  </thead>\n",
       "  <tbody>\n",
       "    <tr>\n",
       "      <th>pelvic_incidence</th>\n",
       "      <td>309.0</td>\n",
       "      <td>60.488461</td>\n",
       "      <td>17.263875</td>\n",
       "      <td>26.147921</td>\n",
       "      <td>46.426366</td>\n",
       "      <td>58.599529</td>\n",
       "      <td>72.955644</td>\n",
       "      <td>129.834041</td>\n",
       "    </tr>\n",
       "    <tr>\n",
       "      <th>pelvic_tilt</th>\n",
       "      <td>309.0</td>\n",
       "      <td>17.526609</td>\n",
       "      <td>10.020486</td>\n",
       "      <td>-6.554948</td>\n",
       "      <td>10.659859</td>\n",
       "      <td>16.297915</td>\n",
       "      <td>21.936186</td>\n",
       "      <td>49.431864</td>\n",
       "    </tr>\n",
       "    <tr>\n",
       "      <th>lumbar_lordosis_angle</th>\n",
       "      <td>309.0</td>\n",
       "      <td>51.970806</td>\n",
       "      <td>18.570850</td>\n",
       "      <td>14.000000</td>\n",
       "      <td>37.000000</td>\n",
       "      <td>49.775534</td>\n",
       "      <td>63.000000</td>\n",
       "      <td>125.742385</td>\n",
       "    </tr>\n",
       "    <tr>\n",
       "      <th>sacral_slope</th>\n",
       "      <td>309.0</td>\n",
       "      <td>42.961852</td>\n",
       "      <td>13.444131</td>\n",
       "      <td>13.366931</td>\n",
       "      <td>33.340707</td>\n",
       "      <td>42.436230</td>\n",
       "      <td>52.744711</td>\n",
       "      <td>121.429566</td>\n",
       "    </tr>\n",
       "    <tr>\n",
       "      <th>pelvic_radius</th>\n",
       "      <td>309.0</td>\n",
       "      <td>117.982945</td>\n",
       "      <td>13.293668</td>\n",
       "      <td>70.082575</td>\n",
       "      <td>110.709912</td>\n",
       "      <td>118.343321</td>\n",
       "      <td>125.480174</td>\n",
       "      <td>163.071041</td>\n",
       "    </tr>\n",
       "    <tr>\n",
       "      <th>degree_spondylolisthesis</th>\n",
       "      <td>309.0</td>\n",
       "      <td>26.382620</td>\n",
       "      <td>37.589418</td>\n",
       "      <td>-11.058179</td>\n",
       "      <td>1.630664</td>\n",
       "      <td>12.072644</td>\n",
       "      <td>41.422828</td>\n",
       "      <td>418.543082</td>\n",
       "    </tr>\n",
       "    <tr>\n",
       "      <th>pelvic_slope</th>\n",
       "      <td>309.0</td>\n",
       "      <td>0.472101</td>\n",
       "      <td>0.285831</td>\n",
       "      <td>0.003220</td>\n",
       "      <td>0.223550</td>\n",
       "      <td>0.474889</td>\n",
       "      <td>0.702208</td>\n",
       "      <td>0.998827</td>\n",
       "    </tr>\n",
       "    <tr>\n",
       "      <th>direct_tilt</th>\n",
       "      <td>309.0</td>\n",
       "      <td>21.349861</td>\n",
       "      <td>8.638998</td>\n",
       "      <td>7.027000</td>\n",
       "      <td>13.181300</td>\n",
       "      <td>21.907400</td>\n",
       "      <td>28.970300</td>\n",
       "      <td>36.743900</td>\n",
       "    </tr>\n",
       "    <tr>\n",
       "      <th>thoracic_slope</th>\n",
       "      <td>309.0</td>\n",
       "      <td>13.059741</td>\n",
       "      <td>3.404188</td>\n",
       "      <td>7.037800</td>\n",
       "      <td>10.416000</td>\n",
       "      <td>12.919700</td>\n",
       "      <td>15.938100</td>\n",
       "      <td>19.324000</td>\n",
       "    </tr>\n",
       "    <tr>\n",
       "      <th>cervical_tilt</th>\n",
       "      <td>309.0</td>\n",
       "      <td>11.922406</td>\n",
       "      <td>2.891564</td>\n",
       "      <td>7.030600</td>\n",
       "      <td>9.535750</td>\n",
       "      <td>11.953700</td>\n",
       "      <td>14.358430</td>\n",
       "      <td>16.821080</td>\n",
       "    </tr>\n",
       "    <tr>\n",
       "      <th>sacrum_angle</th>\n",
       "      <td>309.0</td>\n",
       "      <td>-14.005873</td>\n",
       "      <td>12.217009</td>\n",
       "      <td>-35.287375</td>\n",
       "      <td>-24.275516</td>\n",
       "      <td>-14.550070</td>\n",
       "      <td>-3.494359</td>\n",
       "      <td>6.972071</td>\n",
       "    </tr>\n",
       "    <tr>\n",
       "      <th>scoliosis_slope</th>\n",
       "      <td>309.0</td>\n",
       "      <td>25.588161</td>\n",
       "      <td>10.417726</td>\n",
       "      <td>7.007900</td>\n",
       "      <td>17.165400</td>\n",
       "      <td>24.927800</td>\n",
       "      <td>33.915100</td>\n",
       "      <td>44.341200</td>\n",
       "    </tr>\n",
       "  </tbody>\n",
       "</table>\n",
       "</div>"
      ],
      "text/plain": [
       "                          count        mean  ...         75%         max\n",
       "pelvic_incidence          309.0   60.488461  ...   72.955644  129.834041\n",
       "pelvic_tilt               309.0   17.526609  ...   21.936186   49.431864\n",
       "lumbar_lordosis_angle     309.0   51.970806  ...   63.000000  125.742385\n",
       "sacral_slope              309.0   42.961852  ...   52.744711  121.429566\n",
       "pelvic_radius             309.0  117.982945  ...  125.480174  163.071041\n",
       "degree_spondylolisthesis  309.0   26.382620  ...   41.422828  418.543082\n",
       "pelvic_slope              309.0    0.472101  ...    0.702208    0.998827\n",
       "direct_tilt               309.0   21.349861  ...   28.970300   36.743900\n",
       "thoracic_slope            309.0   13.059741  ...   15.938100   19.324000\n",
       "cervical_tilt             309.0   11.922406  ...   14.358430   16.821080\n",
       "sacrum_angle              309.0  -14.005873  ...   -3.494359    6.972071\n",
       "scoliosis_slope           309.0   25.588161  ...   33.915100   44.341200\n",
       "\n",
       "[12 rows x 8 columns]"
      ]
     },
     "execution_count": 29,
     "metadata": {},
     "output_type": "execute_result"
    }
   ],
   "source": [
    "# Understanding the values of the data\n",
    "spine_data.describe().T"
   ]
  },
  {
   "cell_type": "markdown",
   "metadata": {},
   "source": [
    "Thus, we see that the mean the std of different features are very different hence, it'll be better to standardize the data."
   ]
  },
  {
   "cell_type": "code",
   "execution_count": 40,
   "metadata": {},
   "outputs": [
    {
     "data": {
      "text/plain": [
       "Abnormal    209\n",
       "Normal      100\n",
       "Name: class_att, dtype: int64"
      ]
     },
     "execution_count": 40,
     "metadata": {},
     "output_type": "execute_result"
    }
   ],
   "source": [
    "# Checking the class distribution of the data\n",
    "spine_data['class_att'].value_counts()"
   ]
  },
  {
   "cell_type": "code",
   "execution_count": 41,
   "metadata": {},
   "outputs": [
    {
     "data": {
      "image/png": "[encoded data removed]",
      "text/plain": [
       "<Figure size 720x576 with 1 Axes>"
      ]
     },
     "metadata": {
      "needs_background": "light"
     },
     "output_type": "display_data"
    }
   ],
   "source": [
    "# Alternatively\n",
    "plt.figure(figsize=(10,8))\n",
    "\n",
    "sns.countplot('class_att',data=spine_data)\n",
    "plt.xlabel('class_att')\n",
    "plt.ylabel('count')\n",
    "plt.show()"
   ]
  },
  {
   "cell_type": "code",
   "execution_count": 42,
   "metadata": {},
   "outputs": [
    {
     "data": {
      "image/png": "[encoded data removed]",
      "text/plain": [
       "<Figure size 432x288 with 1 Axes>"
      ]
     },
     "metadata": {
      "needs_background": "light"
     },
     "output_type": "display_data"
    }
   ],
   "source": [
    "# Understanding values for different features for each class\n",
    "sns.boxplot('class_att','pelvic_radius',data=spine_data)\n",
    "plt.xlabel('class_att')\n",
    "plt.ylabel('pelvic_radius')\n",
    "plt.show()"
   ]
  },
  {
   "cell_type": "markdown",
   "metadata": {},
   "source": [
    "We see that pelvic_radius values are higher for those who suffer for lower back pain."
   ]
  },
  {
   "cell_type": "markdown",
   "metadata": {},
   "source": [
    "## Encoding target values"
   ]
  },
  {
   "cell_type": "code",
   "execution_count": 44,
   "metadata": {},
   "outputs": [],
   "source": [
    "# Abnormal : 0 and Normal : 1\n",
    "spine_data['class_att']=np.where(spine_data['class_att']=='Abnormal',0,1)"
   ]
  },
  {
   "cell_type": "code",
   "execution_count": 45,
   "metadata": {},
   "outputs": [
    {
     "data": {
      "text/html": [
       "<div>\n",
       "<style scoped>\n",
       "    .dataframe tbody tr th:only-of-type {\n",
       "        vertical-align: middle;\n",
       "    }\n",
       "\n",
       "    .dataframe tbody tr th {\n",
       "        vertical-align: top;\n",
       "    }\n",
       "\n",
       "    .dataframe thead th {\n",
       "        text-align: right;\n",
       "    }\n",
       "</style>\n",
       "<table border=\"1\" class=\"dataframe\">\n",
       "  <thead>\n",
       "    <tr style=\"text-align: right;\">\n",
       "      <th></th>\n",
       "      <th>pelvic_incidence</th>\n",
       "      <th>pelvic_tilt</th>\n",
       "      <th>lumbar_lordosis_angle</th>\n",
       "      <th>sacral_slope</th>\n",
       "      <th>pelvic_radius</th>\n",
       "      <th>degree_spondylolisthesis</th>\n",
       "      <th>pelvic_slope</th>\n",
       "      <th>direct_tilt</th>\n",
       "      <th>thoracic_slope</th>\n",
       "      <th>cervical_tilt</th>\n",
       "      <th>sacrum_angle</th>\n",
       "      <th>scoliosis_slope</th>\n",
       "      <th>class_att</th>\n",
       "    </tr>\n",
       "  </thead>\n",
       "  <tbody>\n",
       "    <tr>\n",
       "      <th>0</th>\n",
       "      <td>50.819268</td>\n",
       "      <td>15.402213</td>\n",
       "      <td>42.528939</td>\n",
       "      <td>35.417055</td>\n",
       "      <td>112.192804</td>\n",
       "      <td>10.869566</td>\n",
       "      <td>0.678987</td>\n",
       "      <td>7.1103</td>\n",
       "      <td>7.2481</td>\n",
       "      <td>9.94785</td>\n",
       "      <td>-17.379206</td>\n",
       "      <td>14.7187</td>\n",
       "      <td>0</td>\n",
       "    </tr>\n",
       "    <tr>\n",
       "      <th>1</th>\n",
       "      <td>65.013773</td>\n",
       "      <td>9.838262</td>\n",
       "      <td>57.735837</td>\n",
       "      <td>55.175511</td>\n",
       "      <td>94.738525</td>\n",
       "      <td>49.696955</td>\n",
       "      <td>0.151994</td>\n",
       "      <td>14.3986</td>\n",
       "      <td>8.9024</td>\n",
       "      <td>10.84295</td>\n",
       "      <td>6.573829</td>\n",
       "      <td>35.1025</td>\n",
       "      <td>0</td>\n",
       "    </tr>\n",
       "    <tr>\n",
       "      <th>2</th>\n",
       "      <td>53.432928</td>\n",
       "      <td>15.864336</td>\n",
       "      <td>37.165934</td>\n",
       "      <td>37.568592</td>\n",
       "      <td>120.567523</td>\n",
       "      <td>5.988551</td>\n",
       "      <td>0.198920</td>\n",
       "      <td>13.8514</td>\n",
       "      <td>10.7146</td>\n",
       "      <td>11.37832</td>\n",
       "      <td>-20.510434</td>\n",
       "      <td>25.9477</td>\n",
       "      <td>0</td>\n",
       "    </tr>\n",
       "    <tr>\n",
       "      <th>3</th>\n",
       "      <td>34.382299</td>\n",
       "      <td>2.062683</td>\n",
       "      <td>32.390820</td>\n",
       "      <td>32.319617</td>\n",
       "      <td>128.300199</td>\n",
       "      <td>-3.365516</td>\n",
       "      <td>0.581169</td>\n",
       "      <td>12.0774</td>\n",
       "      <td>16.6255</td>\n",
       "      <td>7.20496</td>\n",
       "      <td>-31.374823</td>\n",
       "      <td>29.5748</td>\n",
       "      <td>1</td>\n",
       "    </tr>\n",
       "    <tr>\n",
       "      <th>4</th>\n",
       "      <td>64.624008</td>\n",
       "      <td>15.225303</td>\n",
       "      <td>67.632167</td>\n",
       "      <td>49.398705</td>\n",
       "      <td>90.298468</td>\n",
       "      <td>31.326411</td>\n",
       "      <td>0.781686</td>\n",
       "      <td>24.7626</td>\n",
       "      <td>18.5975</td>\n",
       "      <td>13.01760</td>\n",
       "      <td>-20.526277</td>\n",
       "      <td>17.3548</td>\n",
       "      <td>0</td>\n",
       "    </tr>\n",
       "  </tbody>\n",
       "</table>\n",
       "</div>"
      ],
      "text/plain": [
       "   pelvic_incidence  pelvic_tilt  ...  scoliosis_slope  class_att\n",
       "0         50.819268    15.402213  ...          14.7187          0\n",
       "1         65.013773     9.838262  ...          35.1025          0\n",
       "2         53.432928    15.864336  ...          25.9477          0\n",
       "3         34.382299     2.062683  ...          29.5748          1\n",
       "4         64.624008    15.225303  ...          17.3548          0\n",
       "\n",
       "[5 rows x 13 columns]"
      ]
     },
     "execution_count": 45,
     "metadata": {},
     "output_type": "execute_result"
    }
   ],
   "source": [
    "spine_data.head()"
   ]
  },
  {
   "cell_type": "code",
   "execution_count": 47,
   "metadata": {},
   "outputs": [],
   "source": [
    "# Extracting the featrues data and the target seperately\n",
    "features=spine_data.drop('class_att',axis=1)\n",
    "target=spine_data['class_att']"
   ]
  },
  {
   "cell_type": "markdown",
   "metadata": {},
   "source": [
    "## Data Standardization"
   ]
  },
  {
   "cell_type": "code",
   "execution_count": 53,
   "metadata": {},
   "outputs": [
    {
     "data": {
      "text/html": [
       "<div>\n",
       "<style scoped>\n",
       "    .dataframe tbody tr th:only-of-type {\n",
       "        vertical-align: middle;\n",
       "    }\n",
       "\n",
       "    .dataframe tbody tr th {\n",
       "        vertical-align: top;\n",
       "    }\n",
       "\n",
       "    .dataframe thead th {\n",
       "        text-align: right;\n",
       "    }\n",
       "</style>\n",
       "<table border=\"1\" class=\"dataframe\">\n",
       "  <thead>\n",
       "    <tr style=\"text-align: right;\">\n",
       "      <th></th>\n",
       "      <th>count</th>\n",
       "      <th>mean</th>\n",
       "      <th>std</th>\n",
       "      <th>min</th>\n",
       "      <th>25%</th>\n",
       "      <th>50%</th>\n",
       "      <th>75%</th>\n",
       "      <th>max</th>\n",
       "    </tr>\n",
       "  </thead>\n",
       "  <tbody>\n",
       "    <tr>\n",
       "      <th>pelvic_incidence</th>\n",
       "      <td>309.0</td>\n",
       "      <td>-5.777471e-16</td>\n",
       "      <td>1.001622</td>\n",
       "      <td>-1.992383</td>\n",
       "      <td>-0.815860</td>\n",
       "      <td>-0.109593</td>\n",
       "      <td>0.723326</td>\n",
       "      <td>4.023318</td>\n",
       "    </tr>\n",
       "    <tr>\n",
       "      <th>pelvic_tilt</th>\n",
       "      <td>309.0</td>\n",
       "      <td>-2.299491e-17</td>\n",
       "      <td>1.001622</td>\n",
       "      <td>-2.407131</td>\n",
       "      <td>-0.686383</td>\n",
       "      <td>-0.122817</td>\n",
       "      <td>0.440770</td>\n",
       "      <td>3.189167</td>\n",
       "    </tr>\n",
       "    <tr>\n",
       "      <th>lumbar_lordosis_angle</th>\n",
       "      <td>309.0</td>\n",
       "      <td>5.748728e-18</td>\n",
       "      <td>1.001622</td>\n",
       "      <td>-2.047962</td>\n",
       "      <td>-0.807453</td>\n",
       "      <td>-0.118402</td>\n",
       "      <td>0.594862</td>\n",
       "      <td>3.978883</td>\n",
       "    </tr>\n",
       "    <tr>\n",
       "      <th>sacral_slope</th>\n",
       "      <td>309.0</td>\n",
       "      <td>3.147428e-16</td>\n",
       "      <td>1.001622</td>\n",
       "      <td>-2.204897</td>\n",
       "      <td>-0.716800</td>\n",
       "      <td>-0.039160</td>\n",
       "      <td>0.728848</td>\n",
       "      <td>5.846045</td>\n",
       "    </tr>\n",
       "    <tr>\n",
       "      <th>pelvic_radius</th>\n",
       "      <td>309.0</td>\n",
       "      <td>-7.588320e-16</td>\n",
       "      <td>1.001622</td>\n",
       "      <td>-3.609092</td>\n",
       "      <td>-0.547993</td>\n",
       "      <td>0.027153</td>\n",
       "      <td>0.564885</td>\n",
       "      <td>3.397199</td>\n",
       "    </tr>\n",
       "    <tr>\n",
       "      <th>degree_spondylolisthesis</th>\n",
       "      <td>309.0</td>\n",
       "      <td>-5.748728e-17</td>\n",
       "      <td>1.001622</td>\n",
       "      <td>-0.997662</td>\n",
       "      <td>-0.659550</td>\n",
       "      <td>-0.381309</td>\n",
       "      <td>0.400767</td>\n",
       "      <td>10.449658</td>\n",
       "    </tr>\n",
       "    <tr>\n",
       "      <th>pelvic_slope</th>\n",
       "      <td>309.0</td>\n",
       "      <td>0.000000e+00</td>\n",
       "      <td>1.001622</td>\n",
       "      <td>-1.643074</td>\n",
       "      <td>-0.870985</td>\n",
       "      <td>0.009772</td>\n",
       "      <td>0.806354</td>\n",
       "      <td>1.845781</td>\n",
       "    </tr>\n",
       "    <tr>\n",
       "      <th>direct_tilt</th>\n",
       "      <td>309.0</td>\n",
       "      <td>1.386881e-16</td>\n",
       "      <td>1.001622</td>\n",
       "      <td>-1.660620</td>\n",
       "      <td>-0.947079</td>\n",
       "      <td>0.064642</td>\n",
       "      <td>0.883528</td>\n",
       "      <td>1.784815</td>\n",
       "    </tr>\n",
       "    <tr>\n",
       "      <th>thoracic_slope</th>\n",
       "      <td>309.0</td>\n",
       "      <td>-3.046826e-16</td>\n",
       "      <td>1.001622</td>\n",
       "      <td>-1.771849</td>\n",
       "      <td>-0.777874</td>\n",
       "      <td>-0.041205</td>\n",
       "      <td>0.846906</td>\n",
       "      <td>1.843147</td>\n",
       "    </tr>\n",
       "    <tr>\n",
       "      <th>cervical_tilt</th>\n",
       "      <td>309.0</td>\n",
       "      <td>1.465926e-16</td>\n",
       "      <td>1.001622</td>\n",
       "      <td>-1.694495</td>\n",
       "      <td>-0.826725</td>\n",
       "      <td>0.010840</td>\n",
       "      <td>0.843826</td>\n",
       "      <td>1.696874</td>\n",
       "    </tr>\n",
       "    <tr>\n",
       "      <th>sacrum_angle</th>\n",
       "      <td>309.0</td>\n",
       "      <td>-1.006027e-16</td>\n",
       "      <td>1.001622</td>\n",
       "      <td>-1.744782</td>\n",
       "      <td>-0.841966</td>\n",
       "      <td>-0.044616</td>\n",
       "      <td>0.861796</td>\n",
       "      <td>1.719895</td>\n",
       "    </tr>\n",
       "    <tr>\n",
       "      <th>scoliosis_slope</th>\n",
       "      <td>309.0</td>\n",
       "      <td>-1.322207e-16</td>\n",
       "      <td>1.001622</td>\n",
       "      <td>-1.786417</td>\n",
       "      <td>-0.809814</td>\n",
       "      <td>-0.063491</td>\n",
       "      <td>0.800601</td>\n",
       "      <td>1.803029</td>\n",
       "    </tr>\n",
       "  </tbody>\n",
       "</table>\n",
       "</div>"
      ],
      "text/plain": [
       "                          count          mean  ...       75%        max\n",
       "pelvic_incidence          309.0 -5.777471e-16  ...  0.723326   4.023318\n",
       "pelvic_tilt               309.0 -2.299491e-17  ...  0.440770   3.189167\n",
       "lumbar_lordosis_angle     309.0  5.748728e-18  ...  0.594862   3.978883\n",
       "sacral_slope              309.0  3.147428e-16  ...  0.728848   5.846045\n",
       "pelvic_radius             309.0 -7.588320e-16  ...  0.564885   3.397199\n",
       "degree_spondylolisthesis  309.0 -5.748728e-17  ...  0.400767  10.449658\n",
       "pelvic_slope              309.0  0.000000e+00  ...  0.806354   1.845781\n",
       "direct_tilt               309.0  1.386881e-16  ...  0.883528   1.784815\n",
       "thoracic_slope            309.0 -3.046826e-16  ...  0.846906   1.843147\n",
       "cervical_tilt             309.0  1.465926e-16  ...  0.843826   1.696874\n",
       "sacrum_angle              309.0 -1.006027e-16  ...  0.861796   1.719895\n",
       "scoliosis_slope           309.0 -1.322207e-16  ...  0.800601   1.803029\n",
       "\n",
       "[12 rows x 8 columns]"
      ]
     },
     "execution_count": 53,
     "metadata": {},
     "output_type": "execute_result"
    }
   ],
   "source": [
    "scaler=StandardScaler()\n",
    "scaled_features=pd.DataFrame(scaler.fit_transform(features),\n",
    "                             columns=features.columns,\n",
    "                             index=features.index)\n",
    "scaled_features.describe().T"
   ]
  },
  {
   "cell_type": "code",
   "execution_count": 56,
   "metadata": {},
   "outputs": [
    {
     "data": {
      "text/plain": [
       "((262, 12), (47, 12))"
      ]
     },
     "execution_count": 56,
     "metadata": {},
     "output_type": "execute_result"
    }
   ],
   "source": [
    "# split the data into trainig and testing\n",
    "x_train,x_test,y_train,y_test=train_test_split(scaled_features,\n",
    "                                              target,\n",
    "                                              test_size=0.15,\n",
    "                                              random_state=10)\n",
    "x_train.shape,x_test.shape"
   ]
  },
  {
   "cell_type": "code",
   "execution_count": 57,
   "metadata": {},
   "outputs": [
    {
     "data": {
      "text/plain": [
       "((222, 12), (40, 12))"
      ]
     },
     "execution_count": 57,
     "metadata": {},
     "output_type": "execute_result"
    }
   ],
   "source": [
    "# further splitting the data into training and Validation\n",
    "x_train,x_val,y_train,y_val=train_test_split(x_train,\n",
    "                                            y_train,\n",
    "                                            test_size=0.15,\n",
    "                                            random_state=10)\n",
    "x_train.shape,x_val.shape"
   ]
  },
  {
   "cell_type": "markdown",
   "metadata": {},
   "source": [
    "## Building and Compiling the model\n",
    "The Keras `Functional API` is a way to create models that are more flexible than sequential models-models can have non-linear topology, shared layers, multiple inputs and outputs."
   ]
  },
  {
   "cell_type": "code",
   "execution_count": 58,
   "metadata": {},
   "outputs": [],
   "source": [
    "def build_and_compile_model():\n",
    "    inputs=tf.keras.Input(shape=(x_train.shape[1],))\n",
    "    # in functional API layers are callable hence needs to pass the i/p\n",
    "    x=layers.Dense(16,activation='relu')(inputs)\n",
    "    x=layers.Dropout(0.3)(x)\n",
    "    x=layers.Dense(8,activation='relu')(x)\n",
    "    predictions=layers.Dense(1,activation='sigmoid')(x)\n",
    "    \n",
    "    model=tf.keras.Model(inputs=inputs,outputs=predictions)\n",
    "    \n",
    "    model.summary()\n",
    "    \n",
    "    # BinaryCrossEntropy is the preferred loss for binary classification\n",
    "    # it is the same as the logloss\n",
    "    model.compile(optimizer=tf.keras.optimizers.RMSprop(0.001),\n",
    "                  loss=tf.keras.losses.BinaryCrossentropy(),\n",
    "                  metrics=['accuracy',\n",
    "                           tf.keras.metrics.Precision(0.5),\n",
    "                           tf.keras.metrics.Recall(0.5)])\n",
    "    \n",
    "    return model"
   ]
  },
  {
   "cell_type": "code",
   "execution_count": 59,
   "metadata": {},
   "outputs": [
    {
     "name": "stdout",
     "output_type": "stream",
     "text": [
      "Model: \"model\"\n",
      "_________________________________________________________________\n",
      "Layer (type)                 Output Shape              Param #   \n",
      "=================================================================\n",
      "input_1 (InputLayer)         [(None, 12)]              0         \n",
      "_________________________________________________________________\n",
      "dense (Dense)                (None, 16)                208       \n",
      "_________________________________________________________________\n",
      "dropout (Dropout)            (None, 16)                0         \n",
      "_________________________________________________________________\n",
      "dense_1 (Dense)              (None, 8)                 136       \n",
      "_________________________________________________________________\n",
      "dense_2 (Dense)              (None, 1)                 9         \n",
      "=================================================================\n",
      "Total params: 353\n",
      "Trainable params: 353\n",
      "Non-trainable params: 0\n",
      "_________________________________________________________________\n"
     ]
    }
   ],
   "source": [
    "model=build_and_compile_model()"
   ]
  },
  {
   "cell_type": "markdown",
   "metadata": {},
   "source": [
    "## Visualising the layers "
   ]
  },
  {
   "cell_type": "code",
   "execution_count": 60,
   "metadata": {},
   "outputs": [
    {
     "data": {
      "image/png": "[encoded data removed]",
      "text/plain": [
       "<IPython.core.display.Image object>"
      ]
     },
     "execution_count": 60,
     "metadata": {},
     "output_type": "execute_result"
    }
   ],
   "source": [
    "keras.utils.plot_model(model,show_shapes=True)"
   ]
  },
  {
   "cell_type": "markdown",
   "metadata": {},
   "source": [
    "## Dealing large amout of Data in TF\n",
    "When dealing with large amount of data it's convenient to work in batches of data rather than using a single large numpy array of data."
   ]
  },
  {
   "cell_type": "code",
   "execution_count": 62,
   "metadata": {},
   "outputs": [
    {
     "data": {
      "text/plain": [
       "<ShuffleDataset shapes: ((None, 12), (None,)), types: (tf.float64, tf.int64)>"
      ]
     },
     "execution_count": 62,
     "metadata": {},
     "output_type": "execute_result"
    }
   ],
   "source": [
    "data_train=tf.data.Dataset.from_tensor_slices((x_train.values,y_train.values))\n",
    "\n",
    "# Dividing data into batches of size 16\n",
    "data_train=data_train.batch(16)\n",
    "\n",
    "data_train.shuffle(128)"
   ]
  },
  {
   "cell_type": "code",
   "execution_count": 63,
   "metadata": {
    "scrolled": true
   },
   "outputs": [
    {
     "name": "stdout",
     "output_type": "stream",
     "text": [
      "Epoch 1/10\n",
      "14/14 [==============================] - 0s 3ms/step - loss: 0.7950 - accuracy: 0.3559 - precision: 0.2248 - recall: 0.4028\n",
      "Epoch 2/10\n",
      "14/14 [==============================] - 0s 3ms/step - loss: 0.7116 - accuracy: 0.4730 - precision: 0.2632 - recall: 0.3472\n",
      "Epoch 3/10\n",
      "14/14 [==============================] - 0s 2ms/step - loss: 0.7168 - accuracy: 0.5315 - precision: 0.3049 - recall: 0.3472\n",
      "Epoch 4/10\n",
      "14/14 [==============================] - 0s 2ms/step - loss: 0.6446 - accuracy: 0.6261 - precision: 0.3922 - recall: 0.2778\n",
      "Epoch 5/10\n",
      "14/14 [==============================] - 0s 2ms/step - loss: 0.6360 - accuracy: 0.6486 - precision: 0.4375 - recall: 0.2917\n",
      "Epoch 6/10\n",
      "14/14 [==============================] - 0s 2ms/step - loss: 0.6095 - accuracy: 0.6667 - precision: 0.4688 - recall: 0.2083\n",
      "Epoch 7/10\n",
      "14/14 [==============================] - 0s 2ms/step - loss: 0.5965 - accuracy: 0.6622 - precision: 0.4595 - recall: 0.2361\n",
      "Epoch 8/10\n",
      "14/14 [==============================] - 0s 2ms/step - loss: 0.5996 - accuracy: 0.6306 - precision: 0.3684 - recall: 0.1944\n",
      "Epoch 9/10\n",
      "14/14 [==============================] - 0s 2ms/step - loss: 0.5688 - accuracy: 0.6802 - precision: 0.5217 - recall: 0.1667    \n",
      "Epoch 10/10\n",
      "14/14 [==============================] - 0s 2ms/step - loss: 0.5602 - accuracy: 0.7072 - precision: 0.6667 - recall: 0.1944    \n"
     ]
    },
    {
     "data": {
      "text/plain": [
       "<tensorflow.python.keras.callbacks.History at 0x151ff6a20>"
      ]
     },
     "execution_count": 63,
     "metadata": {},
     "output_type": "execute_result"
    }
   ],
   "source": [
    "n_epochs=10\n",
    "model.fit(data_train,epochs=n_epochs)"
   ]
  },
  {
   "cell_type": "code",
   "execution_count": 65,
   "metadata": {},
   "outputs": [
    {
     "name": "stdout",
     "output_type": "stream",
     "text": [
      "Model: \"model_2\"\n",
      "_________________________________________________________________\n",
      "Layer (type)                 Output Shape              Param #   \n",
      "=================================================================\n",
      "input_3 (InputLayer)         [(None, 12)]              0         \n",
      "_________________________________________________________________\n",
      "dense_6 (Dense)              (None, 16)                208       \n",
      "_________________________________________________________________\n",
      "dropout_2 (Dropout)          (None, 16)                0         \n",
      "_________________________________________________________________\n",
      "dense_7 (Dense)              (None, 8)                 136       \n",
      "_________________________________________________________________\n",
      "dense_8 (Dense)              (None, 1)                 9         \n",
      "=================================================================\n",
      "Total params: 353\n",
      "Trainable params: 353\n",
      "Non-trainable params: 0\n",
      "_________________________________________________________________\n",
      "Epoch 1/10\n",
      "14/14 [==============================] - 0s 29ms/step - loss: 0.7348 - accuracy: 0.5360 - precision_2: 0.1220 - recall_2: 0.0694 - val_loss: 0.7406 - val_accuracy: 0.6000 - val_precision_2: 0.4000 - val_recall_2: 0.1333\n",
      "Epoch 2/10\n",
      "14/14 [==============================] - 0s 3ms/step - loss: 0.6748 - accuracy: 0.6171 - precision_2: 0.3243 - recall_2: 0.1667 - val_loss: 0.7128 - val_accuracy: 0.6000 - val_precision_2: 0.3333 - val_recall_2: 0.0667\n",
      "Epoch 3/10\n",
      "14/14 [==============================] - 0s 3ms/step - loss: 0.6423 - accuracy: 0.6351 - precision_2: 0.3200 - recall_2: 0.1111 - val_loss: 0.6894 - val_accuracy: 0.6250 - val_precision_2: 0.5000 - val_recall_2: 0.0667\n",
      "Epoch 4/10\n",
      "14/14 [==============================] - 0s 3ms/step - loss: 0.6347 - accuracy: 0.6802 - precision_2: 0.5263 - recall_2: 0.1389 - val_loss: 0.6693 - val_accuracy: 0.6500 - val_precision_2: 0.6667 - val_recall_2: 0.1333\n",
      "Epoch 5/10\n",
      "14/14 [==============================] - 0s 3ms/step - loss: 0.6167 - accuracy: 0.6802 - precision_2: 0.5200 - recall_2: 0.1806 - val_loss: 0.6527 - val_accuracy: 0.6500 - val_precision_2: 0.6667 - val_recall_2: 0.1333\n",
      "Epoch 6/10\n",
      "14/14 [==============================] - 0s 3ms/step - loss: 0.5887 - accuracy: 0.6892 - precision_2: 0.5789 - recall_2: 0.1528 - val_loss: 0.6389 - val_accuracy: 0.6500 - val_precision_2: 0.6000 - val_recall_2: 0.2000\n",
      "Epoch 7/10\n",
      "14/14 [==============================] - 0s 3ms/step - loss: 0.5577 - accuracy: 0.7117 - precision_2: 0.6538 - recall_2: 0.2361 - val_loss: 0.6328 - val_accuracy: 0.6500 - val_precision_2: 0.6000 - val_recall_2: 0.2000\n",
      "Epoch 8/10\n",
      "14/14 [==============================] - 0s 3ms/step - loss: 0.5588 - accuracy: 0.7027 - precision_2: 0.6154 - recall_2: 0.2222 - val_loss: 0.6231 - val_accuracy: 0.6500 - val_precision_2: 0.6000 - val_recall_2: 0.2000\n",
      "Epoch 9/10\n",
      "14/14 [==============================] - 0s 3ms/step - loss: 0.5275 - accuracy: 0.7432 - precision_2: 0.7419 - recall_2: 0.3194 - val_loss: 0.6158 - val_accuracy: 0.6500 - val_precision_2: 0.6000 - val_recall_2: 0.2000\n",
      "Epoch 10/10\n",
      "14/14 [==============================] - 0s 3ms/step - loss: 0.5495 - accuracy: 0.6892 - precision_2: 0.5484 - recall_2: 0.2361 - val_loss: 0.6092 - val_accuracy: 0.6500 - val_precision_2: 0.6000 - val_recall_2: 0.2000\n"
     ]
    }
   ],
   "source": [
    "# Using validation set along training data\n",
    "data_val=tf.data.Dataset.from_tensor_slices((x_val.values,y_val.values))\n",
    "data_val=data_val.batch(16)\n",
    "\n",
    "model=build_and_compile_model()\n",
    "\n",
    "training_hist=model.fit(data_train,\n",
    "                       epochs=n_epochs,\n",
    "                       validation_data=data_val)"
   ]
  },
  {
   "cell_type": "markdown",
   "metadata": {},
   "source": [
    "## Visualisation for loss and Accuracy"
   ]
  },
  {
   "cell_type": "code",
   "execution_count": 66,
   "metadata": {},
   "outputs": [
    {
     "data": {
      "image/png": "[encoded data removed]",
      "text/plain": [
       "<Figure size 720x576 with 2 Axes>"
      ]
     },
     "metadata": {
      "needs_background": "light"
     },
     "output_type": "display_data"
    }
   ],
   "source": [
    "train_acc=training_hist.history['accuracy']\n",
    "train_loss=training_hist.history['loss']\n",
    "\n",
    "precision=training_hist.history['precision_2']\n",
    "recall=training_hist.history['recall_2']\n",
    "\n",
    "epoch_range=range(n_epochs)\n",
    "\n",
    "plt.figure(figsize=(10,8))\n",
    "\n",
    "plt.subplot(1,2,1)\n",
    "plt.plot(epoch_range,train_acc,label='Training Accuracy')\n",
    "plt.plot(epoch_range,train_loss,label='Training Loss')\n",
    "plt.title('Accuracy and Loss')\n",
    "plt.legend(loc='best')\n",
    "\n",
    "plt.subplot(1,2,2)\n",
    "plt.plot(epoch_range,precision,label='Precision')\n",
    "plt.plot(epoch_range,recall,label='Recall')\n",
    "plt.title('Precision and Recall')\n",
    "plt.legend(loc='best')\n",
    "plt.show()"
   ]
  },
  {
   "cell_type": "markdown",
   "metadata": {},
   "source": [
    "## Predictions"
   ]
  },
  {
   "cell_type": "code",
   "execution_count": 67,
   "metadata": {},
   "outputs": [
    {
     "data": {
      "text/plain": [
       "array([[0.67240065],\n",
       "       [0.03102437],\n",
       "       [0.5627919 ],\n",
       "       [0.28250286],\n",
       "       [0.12293071],\n",
       "       [0.25811118],\n",
       "       [0.09912699],\n",
       "       [0.40128693],\n",
       "       [0.23605883],\n",
       "       [0.28872365]], dtype=float32)"
      ]
     },
     "execution_count": 67,
     "metadata": {},
     "output_type": "execute_result"
    }
   ],
   "source": [
    "y_pred=model.predict(x_test)\n",
    "\n",
    "y_pred[:10]"
   ]
  },
  {
   "cell_type": "markdown",
   "metadata": {},
   "source": [
    "It gives us the probability values for all the observations"
   ]
  },
  {
   "cell_type": "code",
   "execution_count": 68,
   "metadata": {},
   "outputs": [
    {
     "data": {
      "text/plain": [
       "array([[1],\n",
       "       [0],\n",
       "       [1],\n",
       "       [0],\n",
       "       [0],\n",
       "       [0],\n",
       "       [0],\n",
       "       [0],\n",
       "       [0],\n",
       "       [0]])"
      ]
     },
     "execution_count": 68,
     "metadata": {},
     "output_type": "execute_result"
    }
   ],
   "source": [
    "y_pred=np.where(y_pred>=0.5,1,0)\n",
    "y_pred[:10]"
   ]
  },
  {
   "cell_type": "code",
   "execution_count": 70,
   "metadata": {},
   "outputs": [
    {
     "data": {
      "text/html": [
       "<div>\n",
       "<style scoped>\n",
       "    .dataframe tbody tr th:only-of-type {\n",
       "        vertical-align: middle;\n",
       "    }\n",
       "\n",
       "    .dataframe tbody tr th {\n",
       "        vertical-align: top;\n",
       "    }\n",
       "\n",
       "    .dataframe thead th {\n",
       "        text-align: right;\n",
       "    }\n",
       "</style>\n",
       "<table border=\"1\" class=\"dataframe\">\n",
       "  <thead>\n",
       "    <tr style=\"text-align: right;\">\n",
       "      <th></th>\n",
       "      <th>y_test</th>\n",
       "      <th>y_pred</th>\n",
       "    </tr>\n",
       "  </thead>\n",
       "  <tbody>\n",
       "    <tr>\n",
       "      <th>0</th>\n",
       "      <td>0</td>\n",
       "      <td>1</td>\n",
       "    </tr>\n",
       "    <tr>\n",
       "      <th>1</th>\n",
       "      <td>0</td>\n",
       "      <td>0</td>\n",
       "    </tr>\n",
       "    <tr>\n",
       "      <th>2</th>\n",
       "      <td>0</td>\n",
       "      <td>1</td>\n",
       "    </tr>\n",
       "    <tr>\n",
       "      <th>3</th>\n",
       "      <td>0</td>\n",
       "      <td>0</td>\n",
       "    </tr>\n",
       "    <tr>\n",
       "      <th>4</th>\n",
       "      <td>0</td>\n",
       "      <td>0</td>\n",
       "    </tr>\n",
       "  </tbody>\n",
       "</table>\n",
       "</div>"
      ],
      "text/plain": [
       "   y_test  y_pred\n",
       "0       0       1\n",
       "1       0       0\n",
       "2       0       1\n",
       "3       0       0\n",
       "4       0       0"
      ]
     },
     "execution_count": 70,
     "metadata": {},
     "output_type": "execute_result"
    }
   ],
   "source": [
    "# Let's create a dataframe to create a confusion matrix\n",
    "pred_results=pd.DataFrame({'y_test':y_test.values.flatten(),\n",
    "                           'y_pred':y_pred.flatten().astype('int32')},\n",
    "                          index=range(len(y_pred)))\n",
    "pred_results.head()"
   ]
  },
  {
   "cell_type": "code",
   "execution_count": 71,
   "metadata": {},
   "outputs": [
    {
     "data": {
      "text/html": [
       "<div>\n",
       "<style scoped>\n",
       "    .dataframe tbody tr th:only-of-type {\n",
       "        vertical-align: middle;\n",
       "    }\n",
       "\n",
       "    .dataframe tbody tr th {\n",
       "        vertical-align: top;\n",
       "    }\n",
       "\n",
       "    .dataframe thead th {\n",
       "        text-align: right;\n",
       "    }\n",
       "</style>\n",
       "<table border=\"1\" class=\"dataframe\">\n",
       "  <thead>\n",
       "    <tr style=\"text-align: right;\">\n",
       "      <th>y_test</th>\n",
       "      <th>0</th>\n",
       "      <th>1</th>\n",
       "    </tr>\n",
       "    <tr>\n",
       "      <th>y_pred</th>\n",
       "      <th></th>\n",
       "      <th></th>\n",
       "    </tr>\n",
       "  </thead>\n",
       "  <tbody>\n",
       "    <tr>\n",
       "      <th>0</th>\n",
       "      <td>26</td>\n",
       "      <td>10</td>\n",
       "    </tr>\n",
       "    <tr>\n",
       "      <th>1</th>\n",
       "      <td>8</td>\n",
       "      <td>3</td>\n",
       "    </tr>\n",
       "  </tbody>\n",
       "</table>\n",
       "</div>"
      ],
      "text/plain": [
       "y_test   0   1\n",
       "y_pred        \n",
       "0       26  10\n",
       "1        8   3"
      ]
     },
     "execution_count": 71,
     "metadata": {},
     "output_type": "execute_result"
    }
   ],
   "source": [
    "# Creates a confusion matrix\n",
    "pd.crosstab(pred_results.y_pred,pred_results.y_test)"
   ]
  },
  {
   "cell_type": "markdown",
   "metadata": {},
   "source": [
    "[TN,TP,FN,FP] => [26,3,10,8]"
   ]
  },
  {
   "cell_type": "code",
   "execution_count": 72,
   "metadata": {},
   "outputs": [
    {
     "data": {
      "text/plain": [
       "0.6170212765957447"
      ]
     },
     "execution_count": 72,
     "metadata": {},
     "output_type": "execute_result"
    }
   ],
   "source": [
    "accuracy_score(y_test,y_pred)"
   ]
  },
  {
   "cell_type": "code",
   "execution_count": null,
   "metadata": {},
   "outputs": [],
   "source": []
  }
 ],
 "metadata": {
  "kernelspec": {
   "display_name": "Python 3",
   "language": "python",
   "name": "python3"
  },
  "language_info": {
   "codemirror_mode": {
    "name": "ipython",
    "version": 3
   },
   "file_extension": ".py",
   "mimetype": "text/x-python",
   "name": "python",
   "nbconvert_exporter": "python",
   "pygments_lexer": "ipython3",
   "version": "3.6.10"
  }
 },
 "nbformat": 4,
 "nbformat_minor": 4
}
