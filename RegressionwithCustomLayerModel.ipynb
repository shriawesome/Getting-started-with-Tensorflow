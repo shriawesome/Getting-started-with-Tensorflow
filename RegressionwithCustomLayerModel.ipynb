{
 "cells": [
  {
   "cell_type": "markdown",
   "metadata": {},
   "source": [
    "## Aim\n",
    "Given different features the Goal is to predict the insurance charges for an individual."
   ]
  },
  {
   "cell_type": "code",
   "execution_count": 14,
   "metadata": {},
   "outputs": [],
   "source": [
    "import pandas as pd\n",
    "import numpy as np\n",
    "\n",
    "import matplotlib.pyplot as plt\n",
    "%matplotlib inline\n",
    "\n",
    "from sklearn.model_selection import train_test_split\n",
    "from sklearn.metrics import r2_score\n",
    "\n",
    "import tensorflow as tf\n",
    "from tensorflow import keras\n",
    "from tensorflow.keras import layers,activations\n",
    "\n",
    "import tensorflow_docs as tfdocs\n",
    "import tensorflow_docs.modeling\n",
    "import tensorflow_docs.plots as plots"
   ]
  },
  {
   "cell_type": "markdown",
   "metadata": {},
   "source": [
    "## Read the data\n",
    "We are using a previously processed insurance dataset. For having a glance at the pre-processing visit the [Notebook](./Regression_InsuranceDataset.ipynb)"
   ]
  },
  {
   "cell_type": "code",
   "execution_count": 3,
   "metadata": {},
   "outputs": [
    {
     "data": {
      "text/html": [
       "<div>\n",
       "<style scoped>\n",
       "    .dataframe tbody tr th:only-of-type {\n",
       "        vertical-align: middle;\n",
       "    }\n",
       "\n",
       "    .dataframe tbody tr th {\n",
       "        vertical-align: top;\n",
       "    }\n",
       "\n",
       "    .dataframe thead th {\n",
       "        text-align: right;\n",
       "    }\n",
       "</style>\n",
       "<table border=\"1\" class=\"dataframe\">\n",
       "  <thead>\n",
       "    <tr style=\"text-align: right;\">\n",
       "      <th></th>\n",
       "      <th>age</th>\n",
       "      <th>bmi</th>\n",
       "      <th>children</th>\n",
       "      <th>sex</th>\n",
       "      <th>smoker</th>\n",
       "      <th>region_northeast</th>\n",
       "      <th>region_northwest</th>\n",
       "      <th>region_southeast</th>\n",
       "      <th>region_southwest</th>\n",
       "      <th>charges</th>\n",
       "    </tr>\n",
       "  </thead>\n",
       "  <tbody>\n",
       "    <tr>\n",
       "      <th>824</th>\n",
       "      <td>1.480485</td>\n",
       "      <td>-1.040599</td>\n",
       "      <td>-0.908614</td>\n",
       "      <td>0</td>\n",
       "      <td>0</td>\n",
       "      <td>0</td>\n",
       "      <td>1</td>\n",
       "      <td>0</td>\n",
       "      <td>0</td>\n",
       "      <td>12523.60480</td>\n",
       "    </tr>\n",
       "    <tr>\n",
       "      <th>21</th>\n",
       "      <td>-0.655551</td>\n",
       "      <td>0.284880</td>\n",
       "      <td>-0.078767</td>\n",
       "      <td>1</td>\n",
       "      <td>0</td>\n",
       "      <td>0</td>\n",
       "      <td>0</td>\n",
       "      <td>0</td>\n",
       "      <td>1</td>\n",
       "      <td>4149.73600</td>\n",
       "    </tr>\n",
       "    <tr>\n",
       "      <th>1040</th>\n",
       "      <td>-0.299545</td>\n",
       "      <td>-0.432814</td>\n",
       "      <td>-0.908614</td>\n",
       "      <td>1</td>\n",
       "      <td>1</td>\n",
       "      <td>0</td>\n",
       "      <td>1</td>\n",
       "      <td>0</td>\n",
       "      <td>0</td>\n",
       "      <td>20234.85475</td>\n",
       "    </tr>\n",
       "    <tr>\n",
       "      <th>931</th>\n",
       "      <td>-0.014740</td>\n",
       "      <td>0.301285</td>\n",
       "      <td>-0.078767</td>\n",
       "      <td>1</td>\n",
       "      <td>0</td>\n",
       "      <td>0</td>\n",
       "      <td>0</td>\n",
       "      <td>0</td>\n",
       "      <td>1</td>\n",
       "      <td>6238.29800</td>\n",
       "    </tr>\n",
       "    <tr>\n",
       "      <th>1199</th>\n",
       "      <td>-0.584350</td>\n",
       "      <td>-0.797813</td>\n",
       "      <td>0.751079</td>\n",
       "      <td>1</td>\n",
       "      <td>0</td>\n",
       "      <td>0</td>\n",
       "      <td>0</td>\n",
       "      <td>0</td>\n",
       "      <td>1</td>\n",
       "      <td>4934.70500</td>\n",
       "    </tr>\n",
       "    <tr>\n",
       "      <th>532</th>\n",
       "      <td>1.409283</td>\n",
       "      <td>-0.158040</td>\n",
       "      <td>0.751079</td>\n",
       "      <td>0</td>\n",
       "      <td>0</td>\n",
       "      <td>0</td>\n",
       "      <td>0</td>\n",
       "      <td>1</td>\n",
       "      <td>0</td>\n",
       "      <td>12925.88600</td>\n",
       "    </tr>\n",
       "    <tr>\n",
       "      <th>1185</th>\n",
       "      <td>0.412467</td>\n",
       "      <td>-1.165273</td>\n",
       "      <td>0.751079</td>\n",
       "      <td>0</td>\n",
       "      <td>0</td>\n",
       "      <td>1</td>\n",
       "      <td>0</td>\n",
       "      <td>0</td>\n",
       "      <td>0</td>\n",
       "      <td>8603.82340</td>\n",
       "    </tr>\n",
       "    <tr>\n",
       "      <th>570</th>\n",
       "      <td>-0.584350</td>\n",
       "      <td>-0.256467</td>\n",
       "      <td>-0.908614</td>\n",
       "      <td>1</td>\n",
       "      <td>0</td>\n",
       "      <td>0</td>\n",
       "      <td>0</td>\n",
       "      <td>0</td>\n",
       "      <td>1</td>\n",
       "      <td>3761.29200</td>\n",
       "    </tr>\n",
       "    <tr>\n",
       "      <th>806</th>\n",
       "      <td>0.056461</td>\n",
       "      <td>1.764561</td>\n",
       "      <td>-0.078767</td>\n",
       "      <td>1</td>\n",
       "      <td>0</td>\n",
       "      <td>0</td>\n",
       "      <td>1</td>\n",
       "      <td>0</td>\n",
       "      <td>0</td>\n",
       "      <td>28476.73499</td>\n",
       "    </tr>\n",
       "    <tr>\n",
       "      <th>1318</th>\n",
       "      <td>-0.299545</td>\n",
       "      <td>1.484045</td>\n",
       "      <td>2.410772</td>\n",
       "      <td>0</td>\n",
       "      <td>0</td>\n",
       "      <td>1</td>\n",
       "      <td>0</td>\n",
       "      <td>0</td>\n",
       "      <td>0</td>\n",
       "      <td>19496.71917</td>\n",
       "    </tr>\n",
       "  </tbody>\n",
       "</table>\n",
       "</div>"
      ],
      "text/plain": [
       "           age       bmi  ...  region_southwest      charges\n",
       "824   1.480485 -1.040599  ...                 0  12523.60480\n",
       "21   -0.655551  0.284880  ...                 1   4149.73600\n",
       "1040 -0.299545 -0.432814  ...                 0  20234.85475\n",
       "931  -0.014740  0.301285  ...                 1   6238.29800\n",
       "1199 -0.584350 -0.797813  ...                 1   4934.70500\n",
       "532   1.409283 -0.158040  ...                 0  12925.88600\n",
       "1185  0.412467 -1.165273  ...                 0   8603.82340\n",
       "570  -0.584350 -0.256467  ...                 1   3761.29200\n",
       "806   0.056461  1.764561  ...                 0  28476.73499\n",
       "1318 -0.299545  1.484045  ...                 0  19496.71917\n",
       "\n",
       "[10 rows x 10 columns]"
      ]
     },
     "execution_count": 3,
     "metadata": {},
     "output_type": "execute_result"
    }
   ],
   "source": [
    "data=pd.read_csv(\"datasets/insurance_processed.csv\")\n",
    "data.sample(10)"
   ]
  },
  {
   "cell_type": "code",
   "execution_count": 4,
   "metadata": {},
   "outputs": [
    {
     "data": {
      "text/plain": [
       "(1338, 10)"
      ]
     },
     "execution_count": 4,
     "metadata": {},
     "output_type": "execute_result"
    }
   ],
   "source": [
    "data.shape"
   ]
  },
  {
   "cell_type": "code",
   "execution_count": 5,
   "metadata": {},
   "outputs": [],
   "source": [
    "# Extract the feature matrix and the output matrix\n",
    "features=data.drop(labels=['charges'],axis=1)\n",
    "target=data['charges']"
   ]
  },
  {
   "cell_type": "markdown",
   "metadata": {},
   "source": [
    "## Splitting the Data"
   ]
  },
  {
   "cell_type": "code",
   "execution_count": 7,
   "metadata": {},
   "outputs": [
    {
     "data": {
      "text/plain": [
       "((1070, 9), (268, 9))"
      ]
     },
     "execution_count": 7,
     "metadata": {},
     "output_type": "execute_result"
    }
   ],
   "source": [
    "x_train,x_test,y_train,y_test=train_test_split(features,target,\n",
    "                                              test_size=0.2,\n",
    "                                              random_state=1)\n",
    "\n",
    "x_train.shape,x_test.shape"
   ]
  },
  {
   "cell_type": "markdown",
   "metadata": {},
   "source": [
    "## Custom Layer"
   ]
  },
  {
   "cell_type": "code",
   "execution_count": 8,
   "metadata": {},
   "outputs": [],
   "source": [
    "# Before defining a Custom Model let's define a Custom layer.\n",
    "class MyDense(layers.Layer):\n",
    "    \n",
    "    def __init__(self,units,activation=None,**kwargs):\n",
    "        super(MyDense,self).__init__(**kwargs)\n",
    "        self.units=units\n",
    "        self.activation=activations.get(activation)\n",
    "        \n",
    "    # Initializing weights for layers\n",
    "    def build(self,input_shape):\n",
    "        # Number of features\n",
    "        input_dim=input_shape[-1]\n",
    "        \n",
    "        # Initializing weight without biases\n",
    "        self.w=self.add_weight(shape=(input_dim,self.units))\n",
    "        \n",
    "    # Function for forward Pass\n",
    "    def call(self,input_tensor):\n",
    "        output=tf.matmul(input_tensor,self.w)\n",
    "        \n",
    "        if self.activation is not None:\n",
    "            output=self.activation(output)\n",
    "        \n",
    "        return output\n",
    "    \n",
    "    def compute_output_shape(self,input_shape):\n",
    "        output_shape=list(input_shape)\n",
    "        output_shape[-1]=self.units\n",
    "        \n",
    "        return tuple(output_shape)\n",
    "    \n",
    "    # Serializing the layers\n",
    "    def get_config(self):\n",
    "        config=super(MyDense,self).get_config()\n",
    "        current_config={\n",
    "            'units':self.units,\n",
    "            'activation':activations.serialize(self.activation)\n",
    "        }\n",
    "        \n",
    "        config.update(current_config)\n",
    "        \n",
    "        return config"
   ]
  },
  {
   "cell_type": "markdown",
   "metadata": {},
   "source": [
    "## Buidling a Sequential model using Custom Layer"
   ]
  },
  {
   "cell_type": "code",
   "execution_count": 11,
   "metadata": {},
   "outputs": [],
   "source": [
    "def build_model():\n",
    "    model=tf.keras.Sequential([\n",
    "        MyDense(64,activation='elu',input_shape=[x_train.shape[1]]),\n",
    "        MyDense(32,activation='elu'),\n",
    "        \n",
    "        layers.Dropout(0.2),\n",
    "        \n",
    "        MyDense(16,activation='elu'),\n",
    "        MyDense(1)\n",
    "    ])\n",
    "    \n",
    "    model.compile(loss='mse',\n",
    "                 optimizer=tf.keras.optimizers.RMSprop(0.001),\n",
    "                 metrics=['mae','mse'])\n",
    "    \n",
    "    return model"
   ]
  },
  {
   "cell_type": "code",
   "execution_count": 12,
   "metadata": {},
   "outputs": [
    {
     "name": "stdout",
     "output_type": "stream",
     "text": [
      "Model: \"sequential_1\"\n",
      "_________________________________________________________________\n",
      "Layer (type)                 Output Shape              Param #   \n",
      "=================================================================\n",
      "my_dense_4 (MyDense)         (None, 64)                576       \n",
      "_________________________________________________________________\n",
      "my_dense_5 (MyDense)         (None, 32)                2048      \n",
      "_________________________________________________________________\n",
      "dropout_1 (Dropout)          (None, 32)                0         \n",
      "_________________________________________________________________\n",
      "my_dense_6 (MyDense)         (None, 16)                512       \n",
      "_________________________________________________________________\n",
      "my_dense_7 (MyDense)         (None, 1)                 16        \n",
      "=================================================================\n",
      "Total params: 3,152\n",
      "Trainable params: 3,152\n",
      "Non-trainable params: 0\n",
      "_________________________________________________________________\n"
     ]
    }
   ],
   "source": [
    "sequential_model=build_model()\n",
    "\n",
    "sequential_model.summary()"
   ]
  },
  {
   "cell_type": "markdown",
   "metadata": {},
   "source": [
    "## Training a Custom model"
   ]
  },
  {
   "cell_type": "code",
   "execution_count": 13,
   "metadata": {},
   "outputs": [
    {
     "name": "stdout",
     "output_type": "stream",
     "text": [
      "\n",
      "Epoch: 0, loss:317029792.0000,  mae:13316.9463,  mse:317029792.0000,  val_loss:336044064.0000,  val_mae:12875.4160,  val_mse:336044064.0000,  \n",
      "....................................................................................................\n",
      "Epoch: 100, loss:32468626.0000,  mae:3620.5325,  mse:32468626.0000,  val_loss:23923844.0000,  val_mae:3003.5544,  val_mse:23923844.0000,  \n",
      "....................................................................................................\n",
      "Epoch: 200, loss:27751438.0000,  mae:3308.8005,  mse:27751438.0000,  val_loss:21582974.0000,  val_mae:2616.5151,  val_mse:21582974.0000,  \n",
      "....................................................................................................\n",
      "Epoch: 300, loss:27943400.0000,  mae:3267.9763,  mse:27943400.0000,  val_loss:20922726.0000,  val_mae:2464.1118,  val_mse:20922726.0000,  \n",
      "....................................................................................................\n",
      "Epoch: 400, loss:26430956.0000,  mae:3150.1519,  mse:26430956.0000,  val_loss:20679724.0000,  val_mae:2527.6755,  val_mse:20679724.0000,  \n",
      "....................................................................................................\n",
      "Epoch: 500, loss:25583564.0000,  mae:3178.5256,  mse:25583564.0000,  val_loss:20591938.0000,  val_mae:2500.2593,  val_mse:20591938.0000,  \n",
      "....................................................................................................\n",
      "Epoch: 600, loss:25378926.0000,  mae:3143.5024,  mse:25378926.0000,  val_loss:20602732.0000,  val_mae:2664.0459,  val_mse:20602732.0000,  \n",
      "....................................................................................................\n",
      "Epoch: 700, loss:24059092.0000,  mae:3097.6880,  mse:24059092.0000,  val_loss:20266992.0000,  val_mae:2458.9910,  val_mse:20266992.0000,  \n",
      "....................................................................................................\n",
      "Epoch: 800, loss:25762650.0000,  mae:3209.7981,  mse:25762650.0000,  val_loss:20376810.0000,  val_mae:2571.9045,  val_mse:20376810.0000,  \n",
      "....................................................................................................\n",
      "Epoch: 900, loss:23638624.0000,  mae:3082.3767,  mse:23638624.0000,  val_loss:20714708.0000,  val_mae:2665.3286,  val_mse:20714708.0000,  \n",
      "...................................................................................................."
     ]
    }
   ],
   "source": [
    "n_epochs=1000\n",
    "training_hist=sequential_model.fit(x_train,\n",
    "                                  y_train,\n",
    "                                  epochs=n_epochs,\n",
    "                                  validation_split=0.2,\n",
    "                                  verbose=False,\n",
    "                                  callbacks=[tfdocs.modeling.EpochDots()])"
   ]
  },
  {
   "cell_type": "markdown",
   "metadata": {},
   "source": [
    "## Plotting the loss for Training and Validation"
   ]
  },
  {
   "cell_type": "code",
   "execution_count": 18,
   "metadata": {},
   "outputs": [
    {
     "data": {
      "image/png": "[encoded data removed]",
      "text/plain": [
       "<Figure size 720x576 with 1 Axes>"
      ]
     },
     "metadata": {
      "needs_background": "light"
     },
     "output_type": "display_data"
    }
   ],
   "source": [
    "train_mse=training_hist.history['mse']\n",
    "val_mse=training_hist.history['val_mse']\n",
    "\n",
    "epoch_range=range(n_epochs)\n",
    "\n",
    "plt.figure(figsize=(10,8))\n",
    "plt.plot(epoch_range,train_mse,label='Train MSE')\n",
    "plt.plot(epoch_range,val_mse,label='Validation MSE')\n",
    "plt.xlabel('Epochs')\n",
    "plt.ylabel('MSE')\n",
    "plt.legend(loc='best')\n",
    "plt.show()"
   ]
  },
  {
   "cell_type": "markdown",
   "metadata": {},
   "source": [
    "## Predictions"
   ]
  },
  {
   "cell_type": "code",
   "execution_count": 19,
   "metadata": {},
   "outputs": [
    {
     "data": {
      "image/png": "[encoded data removed]",
      "text/plain": [
       "<Figure size 720x576 with 1 Axes>"
      ]
     },
     "metadata": {
      "needs_background": "light"
     },
     "output_type": "display_data"
    }
   ],
   "source": [
    "y_pred=sequential_model.predict(x_test)\n",
    "\n",
    "plt.figure(figsize=(10,8))\n",
    "plt.scatter(y_test,y_pred)\n",
    "plt.xlabel('Actual charges')\n",
    "plt.ylabel('predicted charges')\n",
    "plt.show()"
   ]
  },
  {
   "cell_type": "code",
   "execution_count": 20,
   "metadata": {},
   "outputs": [
    {
     "data": {
      "text/plain": [
       "0.8729506537393948"
      ]
     },
     "execution_count": 20,
     "metadata": {},
     "output_type": "execute_result"
    }
   ],
   "source": [
    "# Now let's calculate the r2 value\n",
    "r2_score(y_test,y_pred)"
   ]
  },
  {
   "cell_type": "markdown",
   "metadata": {},
   "source": [
    "## Building a Custom model using model subclassing"
   ]
  },
  {
   "cell_type": "code",
   "execution_count": 21,
   "metadata": {},
   "outputs": [],
   "source": [
    "class CustomRegressionModel(tf.keras.Model):\n",
    "    \n",
    "    def __init__(self,input_shape,layer_units=[8,4],activation='relu'):\n",
    "        super(CustomRegressionModel,self).__init__()\n",
    "        \n",
    "        assert len(layer_units)>0\n",
    "        \n",
    "        self.input_layer=MyDense(layer_units[0],\n",
    "                                activation=activation,\n",
    "                                input_shape=[input_shape])\n",
    "        \n",
    "        self.hidden_layers=[]\n",
    "        \n",
    "        for i in range(1,len(layer_units)):\n",
    "            self.hidden_layers.append(MyDense(layer_units[i],\n",
    "                                             activation=activation))\n",
    "            \n",
    "        self.output_layer=MyDense(1)\n",
    "        \n",
    "    # Forward Pass\n",
    "    def call(self,input_tensor):\n",
    "        x=self.input_layer(input_tensor)\n",
    "        \n",
    "        for layer in self.hidden_layers:\n",
    "            x=layer(x)\n",
    "            \n",
    "        output=self.output_layer(x)\n",
    "        \n",
    "        return output"
   ]
  },
  {
   "cell_type": "code",
   "execution_count": 22,
   "metadata": {},
   "outputs": [
    {
     "data": {
      "text/plain": [
       "<tf.Tensor: shape=(5, 1), dtype=float32, numpy=\n",
       "array([[0.],\n",
       "       [0.],\n",
       "       [0.],\n",
       "       [0.],\n",
       "       [0.]], dtype=float32)>"
      ]
     },
     "execution_count": 22,
     "metadata": {},
     "output_type": "execute_result"
    }
   ],
   "source": [
    "# Instantiate the class obj\n",
    "custom_model=CustomRegressionModel(x_train.shape[1],[64,32,16],'elu')\n",
    "\n",
    "# we need to make 1 pass to view the summary of the model\n",
    "custom_model(tf.zeros([5,x_train.shape[1]]))"
   ]
  },
  {
   "cell_type": "code",
   "execution_count": 23,
   "metadata": {},
   "outputs": [
    {
     "name": "stdout",
     "output_type": "stream",
     "text": [
      "Model: \"custom_regression_model\"\n",
      "_________________________________________________________________\n",
      "Layer (type)                 Output Shape              Param #   \n",
      "=================================================================\n",
      "my_dense_8 (MyDense)         multiple                  576       \n",
      "_________________________________________________________________\n",
      "my_dense_9 (MyDense)         multiple                  2048      \n",
      "_________________________________________________________________\n",
      "my_dense_10 (MyDense)        multiple                  512       \n",
      "_________________________________________________________________\n",
      "my_dense_11 (MyDense)        multiple                  16        \n",
      "=================================================================\n",
      "Total params: 3,152\n",
      "Trainable params: 3,152\n",
      "Non-trainable params: 0\n",
      "_________________________________________________________________\n"
     ]
    }
   ],
   "source": [
    "custom_model.summary()"
   ]
  },
  {
   "cell_type": "code",
   "execution_count": 24,
   "metadata": {},
   "outputs": [],
   "source": [
    "# let's configure the model\n",
    "custom_model.compile(loss='mse',\n",
    "                    optimizer=tf.keras.optimizers.RMSprop(0.001),\n",
    "                    metrics=['mse'])"
   ]
  },
  {
   "cell_type": "markdown",
   "metadata": {},
   "source": [
    "## Training a Custom Model"
   ]
  },
  {
   "cell_type": "code",
   "execution_count": 27,
   "metadata": {},
   "outputs": [
    {
     "name": "stdout",
     "output_type": "stream",
     "text": [
      "\n",
      "Epoch: 0, loss:316831424.0000,  mse:316831424.0000,  val_loss:335780576.0000,  val_mse:335780576.0000,  \n",
      "....................................................................................................\n",
      "Epoch: 100, loss:26472846.0000,  mse:26472846.0000,  val_loss:24591776.0000,  val_mse:24591776.0000,  \n",
      "....................................................................................................\n",
      "Epoch: 200, loss:23179066.0000,  mse:23179066.0000,  val_loss:21800270.0000,  val_mse:21800270.0000,  \n",
      "....................................................................................................\n",
      "Epoch: 300, loss:22057126.0000,  mse:22057126.0000,  val_loss:21055748.0000,  val_mse:21055748.0000,  \n",
      "....................................................................................................\n",
      "Epoch: 400, loss:21378738.0000,  mse:21378738.0000,  val_loss:20912990.0000,  val_mse:20912990.0000,  \n",
      "....................................................................................................\n",
      "Epoch: 500, loss:20801160.0000,  mse:20801160.0000,  val_loss:20998688.0000,  val_mse:20998688.0000,  \n",
      "....................................................................................................\n",
      "Epoch: 600, loss:20301588.0000,  mse:20301588.0000,  val_loss:20650050.0000,  val_mse:20650050.0000,  \n",
      "....................................................................................................\n",
      "Epoch: 700, loss:19931690.0000,  mse:19931690.0000,  val_loss:20841950.0000,  val_mse:20841950.0000,  \n",
      "....................................................................................................\n",
      "Epoch: 800, loss:19575122.0000,  mse:19575122.0000,  val_loss:21463188.0000,  val_mse:21463188.0000,  \n",
      "....................................................................................................\n",
      "Epoch: 900, loss:19244614.0000,  mse:19244614.0000,  val_loss:21380116.0000,  val_mse:21380116.0000,  \n",
      "...................................................................................................."
     ]
    }
   ],
   "source": [
    "training_hist=custom_model.fit(x_train,\n",
    "                              y_train,\n",
    "                              epochs=n_epochs,\n",
    "                              validation_split=0.2,\n",
    "                              verbose=False,\n",
    "                              callbacks=[tfdocs.modeling.EpochDots()])"
   ]
  },
  {
   "cell_type": "markdown",
   "metadata": {},
   "source": [
    "## Plotting the MSE via HistoryPlotter"
   ]
  },
  {
   "cell_type": "code",
   "execution_count": 30,
   "metadata": {},
   "outputs": [
    {
     "data": {
      "image/png": "[encoded data removed]",
      "text/plain": [
       "<Figure size 864x576 with 1 Axes>"
      ]
     },
     "metadata": {
      "needs_background": "light"
     },
     "output_type": "display_data"
    }
   ],
   "source": [
    "plotter=plots.HistoryPlotter(smoothing_std=2)\n",
    "\n",
    "plt.figure(figsize=(12,8))\n",
    "\n",
    "plotter.plot({'Basic':training_hist},metric='mse')\n",
    "plt.ylabel('MSE[Charges^2]')\n",
    "plt.show()"
   ]
  },
  {
   "cell_type": "markdown",
   "metadata": {},
   "source": [
    "## Predictions on Custom model"
   ]
  },
  {
   "cell_type": "code",
   "execution_count": 31,
   "metadata": {},
   "outputs": [
    {
     "data": {
      "image/png": "[encoded data removed]",
      "text/plain": [
       "<Figure size 864x576 with 1 Axes>"
      ]
     },
     "metadata": {
      "needs_background": "light"
     },
     "output_type": "display_data"
    }
   ],
   "source": [
    "y_pred=custom_model.predict(x_test)\n",
    "\n",
    "plt.figure(figsize=(12,8))\n",
    "plt.scatter(y_test,y_pred)\n",
    "plt.xlabel('True Value')\n",
    "plt.ylabel('Predicted Values')\n",
    "plt.show()"
   ]
  },
  {
   "cell_type": "code",
   "execution_count": 32,
   "metadata": {},
   "outputs": [
    {
     "data": {
      "text/plain": [
       "0.8675453346178855"
      ]
     },
     "execution_count": 32,
     "metadata": {},
     "output_type": "execute_result"
    }
   ],
   "source": [
    "# Calculating the r2 value\n",
    "r2_score(y_test,y_pred)"
   ]
  },
  {
   "cell_type": "markdown",
   "metadata": {},
   "source": [
    "Hence, we can say the the model performs almost the same as the Sequential model."
   ]
  },
  {
   "cell_type": "markdown",
   "metadata": {},
   "source": [
    "## Saving weights and using it later\n",
    "(Possible because we have serialized our model layers in MyDense)"
   ]
  },
  {
   "cell_type": "code",
   "execution_count": 33,
   "metadata": {},
   "outputs": [],
   "source": [
    "custom_model.save_weights('my_models/custom_model.h5',save_format='h5')"
   ]
  },
  {
   "cell_type": "code",
   "execution_count": 37,
   "metadata": {},
   "outputs": [],
   "source": [
    "# Create a new model\n",
    "new_model=CustomRegressionModel(x_train.shape[1],[64,32,16],'elu')\n",
    "\n",
    "new_model(tf.zeros([5,x_train.shape[1]]))\n",
    "\n",
    "new_model.compile(loss='mse',\n",
    "                 optimizer=tf.keras.optimizers.RMSprop(0.001),\n",
    "                 metrics=['mse'])"
   ]
  },
  {
   "cell_type": "code",
   "execution_count": 38,
   "metadata": {},
   "outputs": [],
   "source": [
    "# Loading weights in this model\n",
    "new_model.load_weights('my_models/custom_model.h5')"
   ]
  },
  {
   "cell_type": "code",
   "execution_count": 39,
   "metadata": {},
   "outputs": [
    {
     "data": {
      "text/plain": [
       "0.8675453346178855"
      ]
     },
     "execution_count": 39,
     "metadata": {},
     "output_type": "execute_result"
    }
   ],
   "source": [
    "# Making predictions without training and loading weights\n",
    "y_pred=new_model.predict(x_test.values)\n",
    "\n",
    "r2_score(y_test,y_pred)"
   ]
  },
  {
   "cell_type": "markdown",
   "metadata": {},
   "source": [
    "Hence, we get the same score as before."
   ]
  }
 ],
 "metadata": {
  "kernelspec": {
   "display_name": "Python 3",
   "language": "python",
   "name": "python3"
  },
  "language_info": {
   "codemirror_mode": {
    "name": "ipython",
    "version": 3
   },
   "file_extension": ".py",
   "mimetype": "text/x-python",
   "name": "python",
   "nbconvert_exporter": "python",
   "pygments_lexer": "ipython3",
   "version": "3.6.10"
  }
 },
 "nbformat": 4,
 "nbformat_minor": 4
}
